{
  "nbformat": 4,
  "nbformat_minor": 0,
  "metadata": {
    "colab": {
      "provenance": [],
      "mount_file_id": "1GifduLgCa4VQM7AgUvSMoTh013yYVHIA",
      "authorship_tag": "ABX9TyMYqGrbrQiwAZdtkqTsalT2",
      "include_colab_link": true
    },
    "kernelspec": {
      "name": "python3",
      "display_name": "Python 3"
    },
    "language_info": {
      "name": "python"
    }
  },
  "cells": [
    {
      "cell_type": "markdown",
      "metadata": {
        "id": "view-in-github",
        "colab_type": "text"
      },
      "source": [
        "<a href=\"https://colab.research.google.com/github/FMabiala/Activation-Function-Tutorial/blob/main/FLM_ML4ThPh_Homework_6_Classification.ipynb\" target=\"_parent\"><img src=\"https://colab.research.google.com/assets/colab-badge.svg\" alt=\"Open In Colab\"/></a>"
      ]
    },
    {
      "cell_type": "markdown",
      "source": [
        "#**Name: Floyd L. Mabiala**\n",
        "#Date: 24/10/2023\n"
      ],
      "metadata": {
        "id": "TIxjsxS71gf1"
      }
    },
    {
      "cell_type": "markdown",
      "source": [
        "## Question 1\n",
        "\n",
        "###Exercise 1:\n",
        "###Discussion:\n",
        " We have learned about bagging and boosting as two ensemble methods. There is a third, widely used ensemble method known as stacking, where models are layered on top of one another. We would like you to do your own research and write a short paragraph on the ***key differences between bagging, boosting, and stacking in ensemble modelling.***\n",
        "\n",
        "###Answer:\n",
        "\n",
        "**Introduction:**\n",
        "Ensemble modeling is a powerful technique in machine learning that combines multiple models to improve predictive performance. Three popular ensemble methods are bagging, boosting, and stacking, each with its unique characteristics and objectives. This report highlights the key differences between these techniques.\n",
        "\n",
        "**1. Bagging (Bootstrap Aggregating):**\n",
        "   - *Objective*: Bagging aims to reduce variance and enhance model stability.\n",
        "   - *Method*: Bagging creates subsets of the training data using bootstrapping (sampling with replacement). Multiple base models are trained on these subsets, and their predictions are aggregated through averaging or majority voting.\n",
        "   - *Example Algorithm*: The Random Forest algorithm is a well-known bagging method.\n",
        "\n",
        "**2. Boosting:**\n",
        "   - *Objective*: Boosting focuses on reducing bias and increasing accuracy by emphasizing misclassified instances.\n",
        "   - *Method*: Boosting iteratively trains a sequence of base models, with each model assigning higher weights to previously misclassified data points. The predictions from these models are combined through weighted voting.\n",
        "   - *Example Algorithms*: Popular boosting algorithms include AdaBoost, Gradient Boosting (e.g., XGBoost, LightGBM), and CatBoost).\n",
        "\n",
        "**3. Stacking:**\n",
        "   - *Objective*: Stacking combines diverse models to leverage their strengths and enhance predictive performance.\n",
        "\n",
        "   - *Method*: Stacking involves training multiple base models and then training a meta-model (blender) on the predictions of these base models. The meta-model learns how to combine these predictions to make final predictions.\n",
        "   - *Flexibility*: Stacking offers flexibility in combining various types of models, including linear and non-linear ones, which can lead to significant performance improvements.\n",
        "   - *Example Algorithms*: Gaussian Naive Bayes, and Logistic Regression\n",
        "\n",
        "**Conclusion:**\n",
        "In ensemble modelling, the choice between bagging, boosting, and stacking depends on the specific problem and dataset characteristics. Bagging aims to reduce variance, boosting aims to reduce bias, while stacking combines diverse models to maximize predictive accuracy. Understanding the distinctions between these techniques is crucial for effectively applying ensemble methods and improving model performance in various machine learning tasks.\n",
        "\n"
      ],
      "metadata": {
        "id": "Uyb2OHtM_DjG"
      }
    },
    {
      "cell_type": "markdown",
      "source": [
        "## Question 2\n",
        "**Practical:**\n",
        "\n",
        "For this practical assignment, you are going to extend the work you did in your 1-5 classification tasks and model evaluation from lesson 5.\n",
        "In addition to the Logistic Regression and Support Vector Machine classifiers which you fitted on the particle collision event data, we would like you to fit and evaluate a Random Forest classifier & Gradient Boosting Classifier in the same way, experimenting with the different hyper-parameters to optimize performance and compare its performance on the train and test sets to that of the previous two classifiers.\n",
        "In particular, we would like you to identify whether or not the Random Forest classifier is overfitting, and if so, identify which hyper-parameters to tune to help you regularize the model.\n"
      ],
      "metadata": {
        "id": "wN2YCw5-cufQ"
      }
    },
    {
      "cell_type": "code",
      "source": [
        "from google.colab import drive\n",
        "drive.mount('/content/drive')"
      ],
      "metadata": {
        "colab": {
          "base_uri": "https://localhost:8080/"
        },
        "id": "TF6BwbZlgJ7T",
        "outputId": "a2da9f56-d483-4eac-d289-bcbe8c6dedcb"
      },
      "execution_count": null,
      "outputs": [
        {
          "output_type": "stream",
          "name": "stdout",
          "text": [
            "Mounted at /content/drive\n"
          ]
        }
      ]
    },
    {
      "cell_type": "code",
      "source": [
        "# NOTE: run this cel first before you import any libraries\n",
        "!pip install --upgrade scikit-learn"
      ],
      "metadata": {
        "colab": {
          "base_uri": "https://localhost:8080/"
        },
        "id": "30z2CvAhg-l-",
        "outputId": "39bd7550-4b1a-43d8-db4b-06ac3b47451e"
      },
      "execution_count": null,
      "outputs": [
        {
          "output_type": "stream",
          "name": "stdout",
          "text": [
            "Requirement already satisfied: scikit-learn in /usr/local/lib/python3.10/dist-packages (1.2.2)\n",
            "Collecting scikit-learn\n",
            "  Downloading scikit_learn-1.3.2-cp310-cp310-manylinux_2_17_x86_64.manylinux2014_x86_64.whl (10.8 MB)\n",
            "\u001b[2K     \u001b[90m━━━━━━━━━━━━━━━━━━━━━━━━━━━━━━━━━━━━━━━━\u001b[0m \u001b[32m10.8/10.8 MB\u001b[0m \u001b[31m68.3 MB/s\u001b[0m eta \u001b[36m0:00:00\u001b[0m\n",
            "\u001b[?25hRequirement already satisfied: numpy<2.0,>=1.17.3 in /usr/local/lib/python3.10/dist-packages (from scikit-learn) (1.23.5)\n",
            "Requirement already satisfied: scipy>=1.5.0 in /usr/local/lib/python3.10/dist-packages (from scikit-learn) (1.11.3)\n",
            "Requirement already satisfied: joblib>=1.1.1 in /usr/local/lib/python3.10/dist-packages (from scikit-learn) (1.3.2)\n",
            "Requirement already satisfied: threadpoolctl>=2.0.0 in /usr/local/lib/python3.10/dist-packages (from scikit-learn) (3.2.0)\n",
            "Installing collected packages: scikit-learn\n",
            "  Attempting uninstall: scikit-learn\n",
            "    Found existing installation: scikit-learn 1.2.2\n",
            "    Uninstalling scikit-learn-1.2.2:\n",
            "      Successfully uninstalled scikit-learn-1.2.2\n",
            "Successfully installed scikit-learn-1.3.2\n"
          ]
        }
      ]
    },
    {
      "cell_type": "code",
      "source": [
        "# Import the libraries required for the problem\n",
        "import numpy as np\n",
        "import pandas as pd\n",
        "import matplotlib.pyplot as plt\n",
        "from sklearn.preprocessing import MinMaxScaler\n",
        "from sklearn.linear_model import LogisticRegression\n",
        "from sklearn.svm import SVC # Support vector classifier\n",
        "from sklearn.naive_bayes import GaussianNB\n",
        "from sklearn.metrics import accuracy_score, precision_score, recall_score, f1_score\n",
        "\n",
        "# Notebook config\n",
        "from sklearn import set_config\n",
        "set_config(display='diagram')"
      ],
      "metadata": {
        "id": "1jtoywc4hKWT"
      },
      "execution_count": null,
      "outputs": []
    },
    {
      "cell_type": "markdown",
      "source": [
        "##Exploratory Data Analysis & Pre-processing\n",
        "1. Exploring the Data"
      ],
      "metadata": {
        "id": "-vSfPANcdPwP"
      }
    },
    {
      "cell_type": "code",
      "source": [
        "#Load the data\n",
        "\n",
        "X_train = np.load('/content/drive/MyDrive/Colab Notebooks/X_train.npy')\n",
        "y_train = np.load('/content/drive/MyDrive/Colab Notebooks/y_train.npy')\n",
        "X_test = np.load('/content/drive/MyDrive/Colab Notebooks/X_test.npy')\n",
        "y_test = np.load('/content/drive/MyDrive/Colab Notebooks/y_test.npy')"
      ],
      "metadata": {
        "id": "rroNToXRhYjS"
      },
      "execution_count": null,
      "outputs": []
    },
    {
      "cell_type": "code",
      "source": [
        "# Print out the shapes of the arrays to see the number of samples\n",
        "X_train.shape, y_train.shape, X_test.shape, y_test.shape"
      ],
      "metadata": {
        "colab": {
          "base_uri": "https://localhost:8080/"
        },
        "id": "h3cP5OiNlRgE",
        "outputId": "f0571f39-e2c6-40de-ca08-2ecf3e38cfd6"
      },
      "execution_count": null,
      "outputs": [
        {
          "output_type": "execute_result",
          "data": {
            "text/plain": [
              "((16917, 20, 20), (16917,), (7250, 20, 20), (7250,))"
            ]
          },
          "metadata": {},
          "execution_count": 5
        }
      ]
    },
    {
      "cell_type": "markdown",
      "source": [
        "###Visualising the data\n",
        "Let's plot a three samples from each class (\"Maxwell\" and \"Spinodal\") in the X_train set using Matplotlibs imshow() function.\n",
        "\n",
        "Note that the labels having the following encoding in y_train and y_test:\n",
        "\n",
        "* 0 corresponds to a Maxwell event.\n",
        "* 1 corresponds to a Spinodal event.\n"
      ],
      "metadata": {
        "id": "k5U5oclLgWxc"
      }
    },
    {
      "cell_type": "code",
      "source": [
        "# Get the first three samples per class in the train and test sets\n",
        "maxwell_samples = X_train[np.where(y_train==0)[0][:3]]\n",
        "spinodal_samples = X_train[np.where(y_train==1)[0][:3]]\n",
        "\n",
        "fig, ax = plt.subplots(2,3, figsize=(8,5))\n",
        "for row in range(3):\n",
        "  ax[0][row].imshow(maxwell_samples[row])\n",
        "  ax[1][row].imshow(spinodal_samples[row])\n",
        "  ax[0][row].set_title(f\"Maxwell event sample {row}\")\n",
        "  ax[1][row].set_title(f\"Spinodal event sample {row}\")\n",
        "plt.tight_layout()\n",
        "plt.show()"
      ],
      "metadata": {
        "colab": {
          "base_uri": "https://localhost:8080/",
          "height": 507
        },
        "id": "uSs8AfBHgIKo",
        "outputId": "4ba6f6b1-7404-4c74-aae9-b05c7e09e46b"
      },
      "execution_count": null,
      "outputs": [
        {
          "output_type": "display_data",
          "data": {
            "text/plain": [
              "<Figure size 800x500 with 6 Axes>"
            ],
            "image/png": "[encoded data removed]"
          },
          "metadata": {}
        }
      ]
    },
    {
      "cell_type": "code",
      "source": [
        "# Count number of samples per class\n",
        "# Note: The set label is 1 for a Spinodal event and 0 for a Maxwell event.\n",
        "n_maxwell_train  = len(np.where(y_train==0)[0])\n",
        "n_spinodal_train = len(np.where(y_train==1)[0])\n",
        "\n",
        "n_maxwell_test  = len(np.where(y_test==0)[0])\n",
        "n_spinodal_test = len(np.where(y_test==1)[0])\n",
        "\n",
        "# Plot a histogram of the labels in the train and test set\n",
        "fig, (ax1, ax2) = plt.subplots(1,2, figsize=(8,2))\n",
        "ax1.hist(y_train, bins=[-0.4, 0.4, 0.6,1.4])\n",
        "ax2.hist(y_test, bins=[-0.4, 0.4, 0.6,1.4])\n",
        "ax1.set_xticks([0,1])\n",
        "ax2.set_xticks([0,1])\n",
        "ax1.set_title(f\"Samples in training set per class\\n{n_maxwell_train} Maxwell events, \\\n",
        "{n_spinodal_train} Spinodal events.\")\n",
        "ax2.set_title(f\"Samples in test set per class\\n{n_maxwell_test} Maxwell events, \\\n",
        "{n_spinodal_test} Spinodal events.\")\n",
        "plt.show()"
      ],
      "metadata": {
        "colab": {
          "base_uri": "https://localhost:8080/",
          "height": 257
        },
        "id": "VNUc_Sxohg72",
        "outputId": "5908f754-ffad-4a19-b3a9-9f0591ecab67"
      },
      "execution_count": null,
      "outputs": [
        {
          "output_type": "display_data",
          "data": {
            "text/plain": [
              "<Figure size 800x200 with 2 Axes>"
            ],
            "image/png": "[encoded data removed]"
          },
          "metadata": {}
        }
      ]
    },
    {
      "cell_type": "markdown",
      "source": [
        "###Logistic Regression Model"
      ],
      "metadata": {
        "id": "-O8-vp6vh2EF"
      }
    },
    {
      "cell_type": "code",
      "source": [
        "# Processing the Data\n",
        "#Print out X train and X test values to see how the data looks like\n",
        "print ('X train values:', X_train[:, :1])\n",
        "print ('\\nX test values:', X_test[:, :1])"
      ],
      "metadata": {
        "colab": {
          "base_uri": "https://localhost:8080/"
        },
        "id": "dhk-6YxEbvKS",
        "outputId": "f1a262e1-7b41-492a-c085-33b9fdbfd0fd"
      },
      "execution_count": null,
      "outputs": [
        {
          "output_type": "stream",
          "name": "stdout",
          "text": [
            "X train values: [[[1.382e-07 1.309e-05 1.583e-04 ... 1.005e-03 8.547e-05 3.085e-06]]\n",
            "\n",
            " [[7.159e-05 1.084e-03 6.451e-03 ... 1.302e-03 9.498e-04 4.135e-04]]\n",
            "\n",
            " [[1.294e-04 1.597e-03 5.846e-03 ... 2.544e-04 2.240e-05 8.301e-07]]\n",
            "\n",
            " ...\n",
            "\n",
            " [[8.797e-05 7.500e-04 2.811e-03 ... 1.502e-03 5.929e-04 1.483e-04]]\n",
            "\n",
            " [[4.081e-07 1.314e-05 1.471e-04 ... 8.675e-05 1.221e-05 3.627e-06]]\n",
            "\n",
            " [[3.226e-04 5.548e-04 1.641e-03 ... 2.926e-04 5.583e-05 4.609e-06]]]\n",
            "\n",
            "X test values: [[[7.308e-05 1.049e-03 5.469e-03 ... 1.559e-03 3.410e-04 4.535e-05]]\n",
            "\n",
            " [[9.094e-05 1.135e-03 7.271e-03 ... 4.643e-04 2.797e-05 1.206e-07]]\n",
            "\n",
            " [[7.479e-05 4.610e-04 1.926e-03 ... 2.326e-04 1.281e-05 1.424e-07]]\n",
            "\n",
            " ...\n",
            "\n",
            " [[9.600e-06 1.124e-04 5.731e-04 ... 1.085e-03 1.613e-04 3.624e-06]]\n",
            "\n",
            " [[5.527e-05 1.815e-03 1.648e-02 ... 8.739e-08 3.301e-08 0.000e+00]]\n",
            "\n",
            " [[1.478e-09 3.386e-05 6.009e-04 ... 2.940e-03 1.600e-03 2.614e-04]]]\n"
          ]
        }
      ]
    },
    {
      "cell_type": "markdown",
      "source": [
        "###Data Exploration\n",
        "When fitting and making predictions with a logistic regression/SVM models we will need to reshape (using Numpy.reshape()) each of the 2-d arrays (i.e. samples) of shape (20,20) in the X_train and X_test data to be 1-d arrays of length 400."
      ],
      "metadata": {
        "id": "lpXqQ0eBoaiq"
      }
    },
    {
      "cell_type": "code",
      "source": [
        "# Make a copy of the data and reshape\n",
        "X = X_train.copy()\n",
        "X = X.reshape(-1,400) #reshape 16917 & 20x20 - 2D: 16917x400\n",
        "X1 = X_test.reshape(-1,400)\n",
        "y_test = y_test.copy()\n",
        "y = y_train.copy()\n",
        "print(\"Shape of training data array after rehshaping:\", X.shape)\n",
        "print('\\nShape of testing data array after rehshaping:', X1.shape)"
      ],
      "metadata": {
        "colab": {
          "base_uri": "https://localhost:8080/"
        },
        "id": "hLjNHWM2tr1r",
        "outputId": "a3d2dec4-7a4f-4c5d-987f-0483c9ac265c"
      },
      "execution_count": null,
      "outputs": [
        {
          "output_type": "stream",
          "name": "stdout",
          "text": [
            "Shape of training data array after rehshaping: (16917, 400)\n",
            "\n",
            "Shape of testing data array after rehshaping: (7250, 400)\n"
          ]
        }
      ]
    },
    {
      "cell_type": "code",
      "source": [
        "#Print the re-shaped data to be 2-D arrays\n",
        "print ('X train values:', X[:, :1])\n",
        "print ('\\nX test values:', X1[:, :1])\n",
        "print('\\n X train and X test data must be at the same standard Scaler ')"
      ],
      "metadata": {
        "colab": {
          "base_uri": "https://localhost:8080/"
        },
        "id": "sSrkD9JanRxI",
        "outputId": "99d43cee-a5d8-4305-c6fd-0c7f4a499715"
      },
      "execution_count": null,
      "outputs": [
        {
          "output_type": "stream",
          "name": "stdout",
          "text": [
            "X train values: [[1.382e-07]\n",
            " [7.159e-05]\n",
            " [1.294e-04]\n",
            " ...\n",
            " [8.797e-05]\n",
            " [4.081e-07]\n",
            " [3.226e-04]]\n",
            "\n",
            "X test values: [[7.308e-05]\n",
            " [9.094e-05]\n",
            " [7.479e-05]\n",
            " ...\n",
            " [9.600e-06]\n",
            " [5.527e-05]\n",
            " [1.478e-09]]\n",
            "\n",
            " X train and X test data must be at the same standard Scaler \n"
          ]
        }
      ]
    },
    {
      "cell_type": "code",
      "source": [
        "#standardization using Standardcaler using sklearn\n",
        "\n",
        "from sklearn.preprocessing import StandardScaler\n",
        "\n",
        "scaler = StandardScaler()\n",
        "xtrain_scal = scaler.fit_transform(X)  #transform and fit training data\n",
        "\n",
        "xtest_scal = scaler.transform(X1) # Only transform and not fit for testing data\n",
        "print ('Scaled X train data',xtrain_scal[:, :1])\n",
        "print ('\\nScaled X test data', xtest_scal[:, :1])"
      ],
      "metadata": {
        "id": "9A2WL6SaIO-y",
        "colab": {
          "base_uri": "https://localhost:8080/"
        },
        "outputId": "703317ef-f041-43bf-8d68-dde19300718a"
      },
      "execution_count": null,
      "outputs": [
        {
          "output_type": "stream",
          "name": "stdout",
          "text": [
            "Scaled X train data [[-0.15570415]\n",
            " [-0.11521221]\n",
            " [-0.08245112]\n",
            " ...\n",
            " [-0.10592962]\n",
            " [-0.1555512 ]\n",
            " [ 0.02703587]]\n",
            "\n",
            "Scaled X test data [[-0.11436783]\n",
            " [-0.10424651]\n",
            " [-0.11339877]\n",
            " ...\n",
            " [-0.15034212]\n",
            " [-0.12446081]\n",
            " [-0.15578163]]\n"
          ]
        }
      ]
    },
    {
      "cell_type": "markdown",
      "source": [
        "##Classification using Logistic Regression Model"
      ],
      "metadata": {
        "id": "85tctL_nV2F9"
      }
    },
    {
      "cell_type": "code",
      "source": [
        "#Fitting a LogisticRegression classifier to the training data using Scikit-Learn\n",
        "\n",
        "from sklearn.linear_model import LogisticRegression\n",
        "\n",
        "log_reg1 = LogisticRegression(random_state=0,solver='lbfgs', max_iter=200, C=1,\n",
        "                              fit_intercept= True, penalty='l2', class_weight='balanced')\n",
        "\n",
        "log_reg1.fit(xtrain_scal, y)"
      ],
      "metadata": {
        "id": "dWEclbdomCGD",
        "colab": {
          "base_uri": "https://localhost:8080/",
          "height": 74
        },
        "outputId": "20b2e1f8-144e-4fa2-e0f4-19fb0711a9cf"
      },
      "execution_count": null,
      "outputs": [
        {
          "output_type": "execute_result",
          "data": {
            "text/plain": [
              "LogisticRegression(C=1, class_weight='balanced', max_iter=200, random_state=0)"
            ],
            "text/html": [
              "<style>#sk-container-id-1 {color: black;background-color: white;}#sk-container-id-1 pre{padding: 0;}#sk-container-id-1 div.sk-toggleable {background-color: white;}#sk-container-id-1 label.sk-toggleable__label {cursor: pointer;display: block;width: 100%;margin-bottom: 0;padding: 0.3em;box-sizing: border-box;text-align: center;}#sk-container-id-1 label.sk-toggleable__label-arrow:before {content: \"▸\";float: left;margin-right: 0.25em;color: #696969;}#sk-container-id-1 label.sk-toggleable__label-arrow:hover:before {color: black;}#sk-container-id-1 div.sk-estimator:hover label.sk-toggleable__label-arrow:before {color: black;}#sk-container-id-1 div.sk-toggleable__content {max-height: 0;max-width: 0;overflow: hidden;text-align: left;background-color: #f0f8ff;}#sk-container-id-1 div.sk-toggleable__content pre {margin: 0.2em;color: black;border-radius: 0.25em;background-color: #f0f8ff;}#sk-container-id-1 input.sk-toggleable__control:checked~div.sk-toggleable__content {max-height: 200px;max-width: 100%;overflow: auto;}#sk-container-id-1 input.sk-toggleable__control:checked~label.sk-toggleable__label-arrow:before {content: \"▾\";}#sk-container-id-1 div.sk-estimator input.sk-toggleable__control:checked~label.sk-toggleable__label {background-color: #d4ebff;}#sk-container-id-1 div.sk-label input.sk-toggleable__control:checked~label.sk-toggleable__label {background-color: #d4ebff;}#sk-container-id-1 input.sk-hidden--visually {border: 0;clip: rect(1px 1px 1px 1px);clip: rect(1px, 1px, 1px, 1px);height: 1px;margin: -1px;overflow: hidden;padding: 0;position: absolute;width: 1px;}#sk-container-id-1 div.sk-estimator {font-family: monospace;background-color: #f0f8ff;border: 1px dotted black;border-radius: 0.25em;box-sizing: border-box;margin-bottom: 0.5em;}#sk-container-id-1 div.sk-estimator:hover {background-color: #d4ebff;}#sk-container-id-1 div.sk-parallel-item::after {content: \"\";width: 100%;border-bottom: 1px solid gray;flex-grow: 1;}#sk-container-id-1 div.sk-label:hover label.sk-toggleable__label {background-color: #d4ebff;}#sk-container-id-1 div.sk-serial::before {content: \"\";position: absolute;border-left: 1px solid gray;box-sizing: border-box;top: 0;bottom: 0;left: 50%;z-index: 0;}#sk-container-id-1 div.sk-serial {display: flex;flex-direction: column;align-items: center;background-color: white;padding-right: 0.2em;padding-left: 0.2em;position: relative;}#sk-container-id-1 div.sk-item {position: relative;z-index: 1;}#sk-container-id-1 div.sk-parallel {display: flex;align-items: stretch;justify-content: center;background-color: white;position: relative;}#sk-container-id-1 div.sk-item::before, #sk-container-id-1 div.sk-parallel-item::before {content: \"\";position: absolute;border-left: 1px solid gray;box-sizing: border-box;top: 0;bottom: 0;left: 50%;z-index: -1;}#sk-container-id-1 div.sk-parallel-item {display: flex;flex-direction: column;z-index: 1;position: relative;background-color: white;}#sk-container-id-1 div.sk-parallel-item:first-child::after {align-self: flex-end;width: 50%;}#sk-container-id-1 div.sk-parallel-item:last-child::after {align-self: flex-start;width: 50%;}#sk-container-id-1 div.sk-parallel-item:only-child::after {width: 0;}#sk-container-id-1 div.sk-dashed-wrapped {border: 1px dashed gray;margin: 0 0.4em 0.5em 0.4em;box-sizing: border-box;padding-bottom: 0.4em;background-color: white;}#sk-container-id-1 div.sk-label label {font-family: monospace;font-weight: bold;display: inline-block;line-height: 1.2em;}#sk-container-id-1 div.sk-label-container {text-align: center;}#sk-container-id-1 div.sk-container {/* jupyter's `normalize.less` sets `[hidden] { display: none; }` but bootstrap.min.css set `[hidden] { display: none !important; }` so we also need the `!important` here to be able to override the default hidden behavior on the sphinx rendered scikit-learn.org. See: https://github.com/scikit-learn/scikit-learn/issues/21755 */display: inline-block !important;position: relative;}#sk-container-id-1 div.sk-text-repr-fallback {display: none;}</style><div id=\"sk-container-id-1\" class=\"sk-top-container\"><div class=\"sk-text-repr-fallback\"><pre>LogisticRegression(C=1, class_weight=&#x27;balanced&#x27;, max_iter=200, random_state=0)</pre><b>In a Jupyter environment, please rerun this cell to show the HTML representation or trust the notebook. <br />On GitHub, the HTML representation is unable to render, please try loading this page with nbviewer.org.</b></div><div class=\"sk-container\" hidden><div class=\"sk-item\"><div class=\"sk-estimator sk-toggleable\"><input class=\"sk-toggleable__control sk-hidden--visually\" id=\"sk-estimator-id-1\" type=\"checkbox\" checked><label for=\"sk-estimator-id-1\" class=\"sk-toggleable__label sk-toggleable__label-arrow\">LogisticRegression</label><div class=\"sk-toggleable__content\"><pre>LogisticRegression(C=1, class_weight=&#x27;balanced&#x27;, max_iter=200, random_state=0)</pre></div></div></div></div></div>"
            ]
          },
          "metadata": {},
          "execution_count": 8
        }
      ]
    },
    {
      "cell_type": "code",
      "source": [
        "# Compute the model predictions on the training and testing set\n",
        "train_lgr_pred = log_reg1.predict(xtrain_scal)\n",
        "test_lgr_pred = log_reg1.predict(xtest_scal)\n",
        "\n",
        "print('Prediction of x train data:', train_lgr_pred)\n",
        "print('\\nPrediction of x test data:', test_lgr_pred)\n",
        "print('\\nIt can be seen how the training and testing data have changed the 0 and 1 digits')"
      ],
      "metadata": {
        "colab": {
          "base_uri": "https://localhost:8080/"
        },
        "id": "3pQaMO4iBxMn",
        "outputId": "2bd34520-853c-4a0a-de56-c9ad860478d7"
      },
      "execution_count": null,
      "outputs": [
        {
          "output_type": "stream",
          "name": "stdout",
          "text": [
            "Prediction of x train data: [1. 1. 1. ... 1. 1. 1.]\n",
            "\n",
            "Prediction of x test data: [1. 0. 1. ... 1. 1. 1.]\n",
            "\n",
            "It can be seen how the training and testing data have changed the 0 and 1 digits\n"
          ]
        }
      ]
    },
    {
      "cell_type": "markdown",
      "source": [
        "##Evaluate the logistic regression model performance\n",
        "\n",
        "In imbalanced datasets, it is important to use metrics that are not biased towards the majority class, such as Recall, FPR, and F-Score"
      ],
      "metadata": {
        "id": "8dJI43j-w33I"
      }
    },
    {
      "cell_type": "code",
      "source": [
        "# Evaluate the model performance of the model using the precision Score metric\n",
        "from sklearn.metrics import f1_score\n",
        "\n",
        "xtrn_lgr_score = f1_score(train_lgr_pred, y)\n",
        "xtest_lgr_score = f1_score(test_lgr_pred, y_test)\n",
        "\n",
        "print('The mean precision of the model predictions on the training set is:', round(100*xtrn_lgr_score,2),'%')\n",
        "print('\\nThe mean precision of the model predictions on the testing set is:', round(100*xtest_lgr_score,2),'%\\n')\n",
        "print('The model looks good on training and testing data, Performance: 83.03 % vs 82.09 %')"
      ],
      "metadata": {
        "colab": {
          "base_uri": "https://localhost:8080/"
        },
        "id": "U0xEe24zCFMd",
        "outputId": "a664fea5-85d3-4017-ce91-7d6a8066ea00"
      },
      "execution_count": null,
      "outputs": [
        {
          "output_type": "stream",
          "name": "stdout",
          "text": [
            "The mean precision of the model predictions on the training set is: 83.03 %\n",
            "\n",
            "The mean precision of the model predictions on the testing set is: 82.09 %\n",
            "\n",
            "The model looks good on training and testing data, Performance: 83.03 % vs 82.09 %\n"
          ]
        }
      ]
    },
    {
      "cell_type": "code",
      "source": [
        "# Recall_score Lgr\n",
        "from sklearn.metrics import recall_score\n",
        "\n",
        "xtrn_lgr_rcall = recall_score(log_reg1.predict(xtrain_scal), y, average='weighted')\n",
        "xtst_lgr_rcall = recall_score(log_reg1.predict(xtest_scal), y_test, average='weighted')\n",
        "\n",
        "print('The recall score of the model predictions on the training set is:', round(100*xtrn_lgr_rcall,2),'%')\n",
        "print('\\nThe recall score of the model predictions on the testing set is:', round(100*xtst_lgr_rcall,2),'%\\n')"
      ],
      "metadata": {
        "colab": {
          "base_uri": "https://localhost:8080/"
        },
        "id": "Oxa8FOLfhk9B",
        "outputId": "a8f495c9-dd4b-4a03-fe68-67d29ac7eecc"
      },
      "execution_count": null,
      "outputs": [
        {
          "output_type": "stream",
          "name": "stdout",
          "text": [
            "The recall score of the model predictions on the training set is: 80.29 %\n",
            "\n",
            "The recall score of the model predictions on the testing set is: 79.24 %\n",
            "\n"
          ]
        }
      ]
    },
    {
      "cell_type": "markdown",
      "source": [
        "##Classification Using Support Vector Machine Model\n",
        "\n",
        "\n",
        "\n",
        "\n",
        "\n"
      ],
      "metadata": {
        "id": "nnsJ8cK8EgtS"
      }
    },
    {
      "cell_type": "code",
      "source": [
        "#Fitting a SVM classifier to the training data using Scikit-Learn\n",
        "from sklearn import svm\n",
        "\n",
        "svc1 = svm.SVC(C=1, kernel='rbf', gamma='scale').fit(xtrain_scal, y)"
      ],
      "metadata": {
        "id": "EDIc3onqEo2B"
      },
      "execution_count": null,
      "outputs": []
    },
    {
      "cell_type": "code",
      "source": [
        "# Compute the model predictions on the training and testing set\n",
        "\n",
        "train_svc_pred = svc1.predict(xtrain_scal)\n",
        "test_svc_pred = svc1.predict(xtest_scal)\n",
        "\n",
        "print('Prediction of x train data:', train_svc_pred)\n",
        "print('\\nPrediction of x test data:', test_svc_pred)\n",
        "print('\\nIt can be seen how the training and testing data have changed to 0 and 1 digits')"
      ],
      "metadata": {
        "colab": {
          "base_uri": "https://localhost:8080/"
        },
        "id": "stGJWC1fHeEw",
        "outputId": "b18fbccd-b6d6-4953-bbec-ac147700b0c9"
      },
      "execution_count": null,
      "outputs": [
        {
          "output_type": "stream",
          "name": "stdout",
          "text": [
            "Prediction of x train data: [1. 1. 1. ... 1. 1. 1.]\n",
            "\n",
            "Prediction of x test data: [1. 0. 1. ... 1. 1. 1.]\n",
            "\n",
            "It can be seen how the training and testing data have changed to 0 and 1 digits\n"
          ]
        }
      ]
    },
    {
      "cell_type": "markdown",
      "source": [
        "###Evaluate the Support vector machine Model performance\n",
        "In imbalanced datasets, it is important to use metrics that are not biased towards the majority class, such as Recall, FPR, and F-Score"
      ],
      "metadata": {
        "id": "kW01nMyElPkY"
      }
    },
    {
      "cell_type": "code",
      "source": [
        "# Evaluate the model performance of the model using the Score metric\n",
        "from sklearn.metrics import f1_score\n",
        "\n",
        "xtrn_svc_scor = f1_score(train_svc_pred, y)\n",
        "xtst_svc_scor = f1_score(test_svc_pred, y_test)\n",
        "\n",
        "print('The mean accuracy of the model predictions on the training set is:', round(100*xtrn_svc_scor,2),'%')\n",
        "print('\\nThe mean accuracy of the model predictions on the testing set is:', round(100*xtst_svc_scor,2),'%')"
      ],
      "metadata": {
        "colab": {
          "base_uri": "https://localhost:8080/"
        },
        "id": "BUeFaw7FHGlw",
        "outputId": "fb763069-c1e8-4977-ae82-d317e218db46"
      },
      "execution_count": null,
      "outputs": [
        {
          "output_type": "stream",
          "name": "stdout",
          "text": [
            "The mean accuracy of the model predictions on the training set is: 90.15 %\n",
            "\n",
            "The mean accuracy of the model predictions on the testing set is: 83.24 %\n"
          ]
        }
      ]
    },
    {
      "cell_type": "code",
      "source": [
        "# Recall_score  SVC\n",
        "from sklearn.metrics import recall_score\n",
        "\n",
        "xtrn_svc_rcall = recall_score(svc1.predict(xtrain_scal), y, average='weighted')\n",
        "xtst_svc_rcall = recall_score(svc1.predict(xtest_scal), y_test, average='weighted')\n",
        "\n",
        "print('The recall score of the model predictions on the training set is:', round(100*xtrn_svc_rcall,2),'%')\n",
        "print('\\nThe recall score of the model predictions on the testing set is:', round(100*xtst_svc_rcall,2),'%\\n')"
      ],
      "metadata": {
        "colab": {
          "base_uri": "https://localhost:8080/"
        },
        "id": "aDzjK_p_jLWj",
        "outputId": "9d3bd2f2-fcfa-49bd-9117-d09922887e40"
      },
      "execution_count": null,
      "outputs": [
        {
          "output_type": "stream",
          "name": "stdout",
          "text": [
            "The recall score of the model predictions on the training set is: 88.48 %\n",
            "\n",
            "The recall score of the model predictions on the testing set is: 81.1 %\n",
            "\n"
          ]
        }
      ]
    },
    {
      "cell_type": "markdown",
      "source": [
        "#**Classification Using Random Forest Classifier**"
      ],
      "metadata": {
        "id": "EigeeEy7zIEX"
      }
    },
    {
      "cell_type": "code",
      "source": [
        "from sklearn.ensemble import RandomForestClassifier\n",
        "\n",
        "# RandomForestClassifier model\n",
        "rf_clf = RandomForestClassifier(n_estimators=10)\n",
        "\n",
        "# Fit the Data\n",
        "rf_clf.fit(xtrain_scal, y)"
      ],
      "metadata": {
        "colab": {
          "base_uri": "https://localhost:8080/",
          "height": 74
        },
        "id": "ZceHn92K0B3N",
        "outputId": "fd7f1963-7bbf-4308-cdaf-77cc7f8590c0"
      },
      "execution_count": null,
      "outputs": [
        {
          "output_type": "execute_result",
          "data": {
            "text/plain": [
              "RandomForestClassifier(n_estimators=10)"
            ],
            "text/html": [
              "<style>#sk-container-id-1 {color: black;background-color: white;}#sk-container-id-1 pre{padding: 0;}#sk-container-id-1 div.sk-toggleable {background-color: white;}#sk-container-id-1 label.sk-toggleable__label {cursor: pointer;display: block;width: 100%;margin-bottom: 0;padding: 0.3em;box-sizing: border-box;text-align: center;}#sk-container-id-1 label.sk-toggleable__label-arrow:before {content: \"▸\";float: left;margin-right: 0.25em;color: #696969;}#sk-container-id-1 label.sk-toggleable__label-arrow:hover:before {color: black;}#sk-container-id-1 div.sk-estimator:hover label.sk-toggleable__label-arrow:before {color: black;}#sk-container-id-1 div.sk-toggleable__content {max-height: 0;max-width: 0;overflow: hidden;text-align: left;background-color: #f0f8ff;}#sk-container-id-1 div.sk-toggleable__content pre {margin: 0.2em;color: black;border-radius: 0.25em;background-color: #f0f8ff;}#sk-container-id-1 input.sk-toggleable__control:checked~div.sk-toggleable__content {max-height: 200px;max-width: 100%;overflow: auto;}#sk-container-id-1 input.sk-toggleable__control:checked~label.sk-toggleable__label-arrow:before {content: \"▾\";}#sk-container-id-1 div.sk-estimator input.sk-toggleable__control:checked~label.sk-toggleable__label {background-color: #d4ebff;}#sk-container-id-1 div.sk-label input.sk-toggleable__control:checked~label.sk-toggleable__label {background-color: #d4ebff;}#sk-container-id-1 input.sk-hidden--visually {border: 0;clip: rect(1px 1px 1px 1px);clip: rect(1px, 1px, 1px, 1px);height: 1px;margin: -1px;overflow: hidden;padding: 0;position: absolute;width: 1px;}#sk-container-id-1 div.sk-estimator {font-family: monospace;background-color: #f0f8ff;border: 1px dotted black;border-radius: 0.25em;box-sizing: border-box;margin-bottom: 0.5em;}#sk-container-id-1 div.sk-estimator:hover {background-color: #d4ebff;}#sk-container-id-1 div.sk-parallel-item::after {content: \"\";width: 100%;border-bottom: 1px solid gray;flex-grow: 1;}#sk-container-id-1 div.sk-label:hover label.sk-toggleable__label {background-color: #d4ebff;}#sk-container-id-1 div.sk-serial::before {content: \"\";position: absolute;border-left: 1px solid gray;box-sizing: border-box;top: 0;bottom: 0;left: 50%;z-index: 0;}#sk-container-id-1 div.sk-serial {display: flex;flex-direction: column;align-items: center;background-color: white;padding-right: 0.2em;padding-left: 0.2em;position: relative;}#sk-container-id-1 div.sk-item {position: relative;z-index: 1;}#sk-container-id-1 div.sk-parallel {display: flex;align-items: stretch;justify-content: center;background-color: white;position: relative;}#sk-container-id-1 div.sk-item::before, #sk-container-id-1 div.sk-parallel-item::before {content: \"\";position: absolute;border-left: 1px solid gray;box-sizing: border-box;top: 0;bottom: 0;left: 50%;z-index: -1;}#sk-container-id-1 div.sk-parallel-item {display: flex;flex-direction: column;z-index: 1;position: relative;background-color: white;}#sk-container-id-1 div.sk-parallel-item:first-child::after {align-self: flex-end;width: 50%;}#sk-container-id-1 div.sk-parallel-item:last-child::after {align-self: flex-start;width: 50%;}#sk-container-id-1 div.sk-parallel-item:only-child::after {width: 0;}#sk-container-id-1 div.sk-dashed-wrapped {border: 1px dashed gray;margin: 0 0.4em 0.5em 0.4em;box-sizing: border-box;padding-bottom: 0.4em;background-color: white;}#sk-container-id-1 div.sk-label label {font-family: monospace;font-weight: bold;display: inline-block;line-height: 1.2em;}#sk-container-id-1 div.sk-label-container {text-align: center;}#sk-container-id-1 div.sk-container {/* jupyter's `normalize.less` sets `[hidden] { display: none; }` but bootstrap.min.css set `[hidden] { display: none !important; }` so we also need the `!important` here to be able to override the default hidden behavior on the sphinx rendered scikit-learn.org. See: https://github.com/scikit-learn/scikit-learn/issues/21755 */display: inline-block !important;position: relative;}#sk-container-id-1 div.sk-text-repr-fallback {display: none;}</style><div id=\"sk-container-id-1\" class=\"sk-top-container\"><div class=\"sk-text-repr-fallback\"><pre>RandomForestClassifier(n_estimators=10)</pre><b>In a Jupyter environment, please rerun this cell to show the HTML representation or trust the notebook. <br />On GitHub, the HTML representation is unable to render, please try loading this page with nbviewer.org.</b></div><div class=\"sk-container\" hidden><div class=\"sk-item\"><div class=\"sk-estimator sk-toggleable\"><input class=\"sk-toggleable__control sk-hidden--visually\" id=\"sk-estimator-id-1\" type=\"checkbox\" checked><label for=\"sk-estimator-id-1\" class=\"sk-toggleable__label sk-toggleable__label-arrow\">RandomForestClassifier</label><div class=\"sk-toggleable__content\"><pre>RandomForestClassifier(n_estimators=10)</pre></div></div></div></div></div>"
            ]
          },
          "metadata": {},
          "execution_count": 8
        }
      ]
    },
    {
      "cell_type": "markdown",
      "source": [
        "##Evaluation of Random Forest classifier model"
      ],
      "metadata": {
        "id": "odLClZNA0ukY"
      }
    },
    {
      "cell_type": "code",
      "source": [
        "# Evaluation of Random Forest classifier model\n",
        "\n",
        "xtrn_rf_scor = rf_clf.score(xtrain_scal, y)\n",
        "xtst_rf_scor = rf_clf.score(xtest_scal, y_test)\n",
        "\n",
        "print('The precision score of the model predictions on the testing set is', round(100*xtrn_rf_scor, 3), '%\\n')\n",
        "print('The precision score of the model predictions on the testing set is:', round(100*xtst_rf_scor, 3), '%')\n",
        "\n",
        "print('\\nObservation:As we can see the precision score of the model on the training data is 99.054 % overfitting vs testing data 77.379%\\n',\n",
        "'Hence, Hyperparameter tuning is needed to avoid high Variance')"
      ],
      "metadata": {
        "colab": {
          "base_uri": "https://localhost:8080/"
        },
        "id": "sx7szqUe0jPp",
        "outputId": "1e832adf-65d4-4104-9790-d1321820933f"
      },
      "execution_count": null,
      "outputs": [
        {
          "output_type": "stream",
          "name": "stdout",
          "text": [
            "The precision score of the model predictions on the testing set is 98.735 %\n",
            "\n",
            "The precision score of the model predictions on the testing set is: 78.124 %\n",
            "\n",
            "Observation:As we can see the precision score of the model on the training data is 99.054 % overfitting vs testing data 77.379%\n",
            " Hence, Hyperparameter tuning is needed to avoid high Variance\n"
          ]
        }
      ]
    },
    {
      "cell_type": "markdown",
      "source": [
        "## Hyper Parameters tuning"
      ],
      "metadata": {
        "id": "HEsUHYA709bO"
      }
    },
    {
      "cell_type": "code",
      "source": [
        "\"\"\"Parameters tuning\"\"\"\n",
        "\n",
        "from sklearn.ensemble import RandomForestClassifier\n",
        "from sklearn.model_selection import GridSearchCV\n",
        "\n",
        "# Define the hyperparameter grid\n",
        "param_grid = {\n",
        "    \"n_estimators\": [10,20, 30],\n",
        "    \"max_depth\": [2, 4],\n",
        "    \"min_samples_split\": [2,5],\n",
        "    \"min_samples_leaf\": [1, 2],\n",
        "    #\"max_features\": [\"auto\", \"sqrt\", \"log2\"]\n",
        "}\n",
        "# Create a random forest classifier\n",
        "rf_clf1 = RandomForestClassifier()\n",
        "\n",
        "# Perform grid search to find the best hyperparameters\n",
        "grid_search_rf = GridSearchCV(rf_clf1, param_grid, cv=3, n_jobs=4, error_score='raise')\n",
        "grid_search_rf.fit(xtrain_scal, y)"
      ],
      "metadata": {
        "colab": {
          "base_uri": "https://localhost:8080/",
          "height": 116
        },
        "id": "iE_sBNfv1Ho9",
        "outputId": "072d0c53-2700-4ace-ef8e-635dba34f31a"
      },
      "execution_count": null,
      "outputs": [
        {
          "output_type": "execute_result",
          "data": {
            "text/plain": [
              "GridSearchCV(cv=3, error_score='raise', estimator=RandomForestClassifier(),\n",
              "             n_jobs=4,\n",
              "             param_grid={'max_depth': [2, 4], 'min_samples_leaf': [1, 2],\n",
              "                         'min_samples_split': [2, 5],\n",
              "                         'n_estimators': [10, 20, 30]})"
            ],
            "text/html": [
              "<style>#sk-container-id-2 {color: black;background-color: white;}#sk-container-id-2 pre{padding: 0;}#sk-container-id-2 div.sk-toggleable {background-color: white;}#sk-container-id-2 label.sk-toggleable__label {cursor: pointer;display: block;width: 100%;margin-bottom: 0;padding: 0.3em;box-sizing: border-box;text-align: center;}#sk-container-id-2 label.sk-toggleable__label-arrow:before {content: \"▸\";float: left;margin-right: 0.25em;color: #696969;}#sk-container-id-2 label.sk-toggleable__label-arrow:hover:before {color: black;}#sk-container-id-2 div.sk-estimator:hover label.sk-toggleable__label-arrow:before {color: black;}#sk-container-id-2 div.sk-toggleable__content {max-height: 0;max-width: 0;overflow: hidden;text-align: left;background-color: #f0f8ff;}#sk-container-id-2 div.sk-toggleable__content pre {margin: 0.2em;color: black;border-radius: 0.25em;background-color: #f0f8ff;}#sk-container-id-2 input.sk-toggleable__control:checked~div.sk-toggleable__content {max-height: 200px;max-width: 100%;overflow: auto;}#sk-container-id-2 input.sk-toggleable__control:checked~label.sk-toggleable__label-arrow:before {content: \"▾\";}#sk-container-id-2 div.sk-estimator input.sk-toggleable__control:checked~label.sk-toggleable__label {background-color: #d4ebff;}#sk-container-id-2 div.sk-label input.sk-toggleable__control:checked~label.sk-toggleable__label {background-color: #d4ebff;}#sk-container-id-2 input.sk-hidden--visually {border: 0;clip: rect(1px 1px 1px 1px);clip: rect(1px, 1px, 1px, 1px);height: 1px;margin: -1px;overflow: hidden;padding: 0;position: absolute;width: 1px;}#sk-container-id-2 div.sk-estimator {font-family: monospace;background-color: #f0f8ff;border: 1px dotted black;border-radius: 0.25em;box-sizing: border-box;margin-bottom: 0.5em;}#sk-container-id-2 div.sk-estimator:hover {background-color: #d4ebff;}#sk-container-id-2 div.sk-parallel-item::after {content: \"\";width: 100%;border-bottom: 1px solid gray;flex-grow: 1;}#sk-container-id-2 div.sk-label:hover label.sk-toggleable__label {background-color: #d4ebff;}#sk-container-id-2 div.sk-serial::before {content: \"\";position: absolute;border-left: 1px solid gray;box-sizing: border-box;top: 0;bottom: 0;left: 50%;z-index: 0;}#sk-container-id-2 div.sk-serial {display: flex;flex-direction: column;align-items: center;background-color: white;padding-right: 0.2em;padding-left: 0.2em;position: relative;}#sk-container-id-2 div.sk-item {position: relative;z-index: 1;}#sk-container-id-2 div.sk-parallel {display: flex;align-items: stretch;justify-content: center;background-color: white;position: relative;}#sk-container-id-2 div.sk-item::before, #sk-container-id-2 div.sk-parallel-item::before {content: \"\";position: absolute;border-left: 1px solid gray;box-sizing: border-box;top: 0;bottom: 0;left: 50%;z-index: -1;}#sk-container-id-2 div.sk-parallel-item {display: flex;flex-direction: column;z-index: 1;position: relative;background-color: white;}#sk-container-id-2 div.sk-parallel-item:first-child::after {align-self: flex-end;width: 50%;}#sk-container-id-2 div.sk-parallel-item:last-child::after {align-self: flex-start;width: 50%;}#sk-container-id-2 div.sk-parallel-item:only-child::after {width: 0;}#sk-container-id-2 div.sk-dashed-wrapped {border: 1px dashed gray;margin: 0 0.4em 0.5em 0.4em;box-sizing: border-box;padding-bottom: 0.4em;background-color: white;}#sk-container-id-2 div.sk-label label {font-family: monospace;font-weight: bold;display: inline-block;line-height: 1.2em;}#sk-container-id-2 div.sk-label-container {text-align: center;}#sk-container-id-2 div.sk-container {/* jupyter's `normalize.less` sets `[hidden] { display: none; }` but bootstrap.min.css set `[hidden] { display: none !important; }` so we also need the `!important` here to be able to override the default hidden behavior on the sphinx rendered scikit-learn.org. See: https://github.com/scikit-learn/scikit-learn/issues/21755 */display: inline-block !important;position: relative;}#sk-container-id-2 div.sk-text-repr-fallback {display: none;}</style><div id=\"sk-container-id-2\" class=\"sk-top-container\"><div class=\"sk-text-repr-fallback\"><pre>GridSearchCV(cv=3, error_score=&#x27;raise&#x27;, estimator=RandomForestClassifier(),\n",
              "             n_jobs=4,\n",
              "             param_grid={&#x27;max_depth&#x27;: [2, 4], &#x27;min_samples_leaf&#x27;: [1, 2],\n",
              "                         &#x27;min_samples_split&#x27;: [2, 5],\n",
              "                         &#x27;n_estimators&#x27;: [10, 20, 30]})</pre><b>In a Jupyter environment, please rerun this cell to show the HTML representation or trust the notebook. <br />On GitHub, the HTML representation is unable to render, please try loading this page with nbviewer.org.</b></div><div class=\"sk-container\" hidden><div class=\"sk-item sk-dashed-wrapped\"><div class=\"sk-label-container\"><div class=\"sk-label sk-toggleable\"><input class=\"sk-toggleable__control sk-hidden--visually\" id=\"sk-estimator-id-2\" type=\"checkbox\" ><label for=\"sk-estimator-id-2\" class=\"sk-toggleable__label sk-toggleable__label-arrow\">GridSearchCV</label><div class=\"sk-toggleable__content\"><pre>GridSearchCV(cv=3, error_score=&#x27;raise&#x27;, estimator=RandomForestClassifier(),\n",
              "             n_jobs=4,\n",
              "             param_grid={&#x27;max_depth&#x27;: [2, 4], &#x27;min_samples_leaf&#x27;: [1, 2],\n",
              "                         &#x27;min_samples_split&#x27;: [2, 5],\n",
              "                         &#x27;n_estimators&#x27;: [10, 20, 30]})</pre></div></div></div><div class=\"sk-parallel\"><div class=\"sk-parallel-item\"><div class=\"sk-item\"><div class=\"sk-label-container\"><div class=\"sk-label sk-toggleable\"><input class=\"sk-toggleable__control sk-hidden--visually\" id=\"sk-estimator-id-3\" type=\"checkbox\" ><label for=\"sk-estimator-id-3\" class=\"sk-toggleable__label sk-toggleable__label-arrow\">estimator: RandomForestClassifier</label><div class=\"sk-toggleable__content\"><pre>RandomForestClassifier()</pre></div></div></div><div class=\"sk-serial\"><div class=\"sk-item\"><div class=\"sk-estimator sk-toggleable\"><input class=\"sk-toggleable__control sk-hidden--visually\" id=\"sk-estimator-id-4\" type=\"checkbox\" ><label for=\"sk-estimator-id-4\" class=\"sk-toggleable__label sk-toggleable__label-arrow\">RandomForestClassifier</label><div class=\"sk-toggleable__content\"><pre>RandomForestClassifier()</pre></div></div></div></div></div></div></div></div></div></div>"
            ]
          },
          "metadata": {},
          "execution_count": 10
        }
      ]
    },
    {
      "cell_type": "code",
      "source": [
        "# Get the best hyperparameters\n",
        "import numpy as np\n",
        "best_params = grid_search_rf.best_params_\n",
        "\n",
        "# Create a random forest classifier with the best hyperparameters\n",
        "rf_best = RandomForestClassifier(**best_params)\n",
        "\n",
        "# Train the model\n",
        "rf_best.fit(xtrain_scal, y)\n",
        "\n",
        "# Make predictions on the test set\n",
        "y__pred = rf_best.predict(xtrain_scal)\n",
        "\n",
        "# Evaluate the model performance\n",
        "accuracy = np.mean(y__pred == y)\n",
        "print(\"Accuracy:\", accuracy)"
      ],
      "metadata": {
        "colab": {
          "base_uri": "https://localhost:8080/"
        },
        "id": "ufya0zk31RTV",
        "outputId": "2e1c2978-c8e9-4957-f542-be5769df1870"
      },
      "execution_count": null,
      "outputs": [
        {
          "output_type": "stream",
          "name": "stdout",
          "text": [
            "Accuracy: 0.7927528521605486\n"
          ]
        }
      ]
    },
    {
      "cell_type": "markdown",
      "source": [
        "##Estimation Score of the the best hyerparameter model"
      ],
      "metadata": {
        "id": "fzPUM1TyDTpZ"
      }
    },
    {
      "cell_type": "code",
      "source": [
        "# Evaluation of Random Forest classifier model\n",
        "# Efficiency score\n",
        "\n",
        "xtrn_rf_scor = rf_best.score(xtrain_scal, y)\n",
        "xtst_rf_scor = rf_best.score(xtest_scal, y_test)\n",
        "\n",
        "print('XTrain Score:',round(100*xtrn_rf_scor, 2), '%')\n",
        "print('\\nXTest Score:',round(100*xtst_rf_scor, 2), '%')\n",
        "print('\\nObservation:As we can see the precision score of the model on the training data is now 79.07 % and on testing data 78.80 %\\n',\n",
        "'Therefore, Hyperparameter tuning has helped to reduce high Variance')"
      ],
      "metadata": {
        "colab": {
          "base_uri": "https://localhost:8080/"
        },
        "id": "hKbn1PcNBXKk",
        "outputId": "f8ba1db8-ed89-4438-9491-96f429eec6f1"
      },
      "execution_count": null,
      "outputs": [
        {
          "output_type": "stream",
          "name": "stdout",
          "text": [
            "XTrain Score: 79.28 %\n",
            "\n",
            "XTest Score: 79.01 %\n",
            "\n",
            "Observation:As we can see the precision score of the model on the training data is now 79.07 % and on testing data 78.80 %\n",
            " Therefore, Hyperparameter tuning has helped to reduce high Variance\n"
          ]
        }
      ]
    },
    {
      "cell_type": "code",
      "source": [
        "# f1_score  random forest\n",
        "# Evaluate the model performance of the model using the f1 Score metric\n",
        "from sklearn.metrics import f1_score\n",
        "\n",
        "xtrn_rf_skore = f1_score(y__pred, y)\n",
        "xtest_rf_skore = f1_score(rf_best.predict(xtest_scal), y_test)\n",
        "\n",
        "print('The f1 Score of a Random Forest model on the training set and the testing set results:\\n')\n",
        "print('The score of the model predictions on the training set is:', round(100*xtrn_rf_skore,2),'%')\n",
        "print('\\nThe score of the model predictions on the testing set is:', round(100*xtest_rf_skore,2),'%\\n')"
      ],
      "metadata": {
        "colab": {
          "base_uri": "https://localhost:8080/"
        },
        "id": "mvUp-nuEaSL7",
        "outputId": "fdeb6f0a-58e7-4bff-f4a0-dd91cdbe603a"
      },
      "execution_count": null,
      "outputs": [
        {
          "output_type": "stream",
          "name": "stdout",
          "text": [
            "The f1 Score of a Random Forest model on the training set and the testing set results:\n",
            "\n",
            "The score of the model predictions on the training set is: 81.69 %\n",
            "\n",
            "The score of the model predictions on the testing set is: 81.36 %\n",
            "\n"
          ]
        }
      ]
    },
    {
      "cell_type": "markdown",
      "source": [
        "#Classification Using Gradient Boost Classifier"
      ],
      "metadata": {
        "id": "dEf3yvbX2goy"
      }
    },
    {
      "cell_type": "code",
      "source": [
        "from sklearn.ensemble import GradientBoostingClassifier\n",
        "\n",
        "# Gradient Boost Classifier model\n",
        "gb_clf = GradientBoostingClassifier(n_estimators=100, learning_rate=0.1,\n",
        "    max_depth=4, random_state=0)\n",
        "\n",
        "# Fit the Data\n",
        "gb_clf.fit(xtrain_scal, y)"
      ],
      "metadata": {
        "colab": {
          "base_uri": "https://localhost:8080/",
          "height": 74
        },
        "id": "gqftBgE52nso",
        "outputId": "1a429f81-f042-4d17-f6fa-6cb82cb924ca"
      },
      "execution_count": null,
      "outputs": [
        {
          "output_type": "execute_result",
          "data": {
            "text/plain": [
              "GradientBoostingClassifier(max_depth=4, random_state=0)"
            ],
            "text/html": [
              "<style>#sk-container-id-2 {color: black;background-color: white;}#sk-container-id-2 pre{padding: 0;}#sk-container-id-2 div.sk-toggleable {background-color: white;}#sk-container-id-2 label.sk-toggleable__label {cursor: pointer;display: block;width: 100%;margin-bottom: 0;padding: 0.3em;box-sizing: border-box;text-align: center;}#sk-container-id-2 label.sk-toggleable__label-arrow:before {content: \"▸\";float: left;margin-right: 0.25em;color: #696969;}#sk-container-id-2 label.sk-toggleable__label-arrow:hover:before {color: black;}#sk-container-id-2 div.sk-estimator:hover label.sk-toggleable__label-arrow:before {color: black;}#sk-container-id-2 div.sk-toggleable__content {max-height: 0;max-width: 0;overflow: hidden;text-align: left;background-color: #f0f8ff;}#sk-container-id-2 div.sk-toggleable__content pre {margin: 0.2em;color: black;border-radius: 0.25em;background-color: #f0f8ff;}#sk-container-id-2 input.sk-toggleable__control:checked~div.sk-toggleable__content {max-height: 200px;max-width: 100%;overflow: auto;}#sk-container-id-2 input.sk-toggleable__control:checked~label.sk-toggleable__label-arrow:before {content: \"▾\";}#sk-container-id-2 div.sk-estimator input.sk-toggleable__control:checked~label.sk-toggleable__label {background-color: #d4ebff;}#sk-container-id-2 div.sk-label input.sk-toggleable__control:checked~label.sk-toggleable__label {background-color: #d4ebff;}#sk-container-id-2 input.sk-hidden--visually {border: 0;clip: rect(1px 1px 1px 1px);clip: rect(1px, 1px, 1px, 1px);height: 1px;margin: -1px;overflow: hidden;padding: 0;position: absolute;width: 1px;}#sk-container-id-2 div.sk-estimator {font-family: monospace;background-color: #f0f8ff;border: 1px dotted black;border-radius: 0.25em;box-sizing: border-box;margin-bottom: 0.5em;}#sk-container-id-2 div.sk-estimator:hover {background-color: #d4ebff;}#sk-container-id-2 div.sk-parallel-item::after {content: \"\";width: 100%;border-bottom: 1px solid gray;flex-grow: 1;}#sk-container-id-2 div.sk-label:hover label.sk-toggleable__label {background-color: #d4ebff;}#sk-container-id-2 div.sk-serial::before {content: \"\";position: absolute;border-left: 1px solid gray;box-sizing: border-box;top: 0;bottom: 0;left: 50%;z-index: 0;}#sk-container-id-2 div.sk-serial {display: flex;flex-direction: column;align-items: center;background-color: white;padding-right: 0.2em;padding-left: 0.2em;position: relative;}#sk-container-id-2 div.sk-item {position: relative;z-index: 1;}#sk-container-id-2 div.sk-parallel {display: flex;align-items: stretch;justify-content: center;background-color: white;position: relative;}#sk-container-id-2 div.sk-item::before, #sk-container-id-2 div.sk-parallel-item::before {content: \"\";position: absolute;border-left: 1px solid gray;box-sizing: border-box;top: 0;bottom: 0;left: 50%;z-index: -1;}#sk-container-id-2 div.sk-parallel-item {display: flex;flex-direction: column;z-index: 1;position: relative;background-color: white;}#sk-container-id-2 div.sk-parallel-item:first-child::after {align-self: flex-end;width: 50%;}#sk-container-id-2 div.sk-parallel-item:last-child::after {align-self: flex-start;width: 50%;}#sk-container-id-2 div.sk-parallel-item:only-child::after {width: 0;}#sk-container-id-2 div.sk-dashed-wrapped {border: 1px dashed gray;margin: 0 0.4em 0.5em 0.4em;box-sizing: border-box;padding-bottom: 0.4em;background-color: white;}#sk-container-id-2 div.sk-label label {font-family: monospace;font-weight: bold;display: inline-block;line-height: 1.2em;}#sk-container-id-2 div.sk-label-container {text-align: center;}#sk-container-id-2 div.sk-container {/* jupyter's `normalize.less` sets `[hidden] { display: none; }` but bootstrap.min.css set `[hidden] { display: none !important; }` so we also need the `!important` here to be able to override the default hidden behavior on the sphinx rendered scikit-learn.org. See: https://github.com/scikit-learn/scikit-learn/issues/21755 */display: inline-block !important;position: relative;}#sk-container-id-2 div.sk-text-repr-fallback {display: none;}</style><div id=\"sk-container-id-2\" class=\"sk-top-container\"><div class=\"sk-text-repr-fallback\"><pre>GradientBoostingClassifier(max_depth=4, random_state=0)</pre><b>In a Jupyter environment, please rerun this cell to show the HTML representation or trust the notebook. <br />On GitHub, the HTML representation is unable to render, please try loading this page with nbviewer.org.</b></div><div class=\"sk-container\" hidden><div class=\"sk-item\"><div class=\"sk-estimator sk-toggleable\"><input class=\"sk-toggleable__control sk-hidden--visually\" id=\"sk-estimator-id-4\" type=\"checkbox\" checked><label for=\"sk-estimator-id-4\" class=\"sk-toggleable__label sk-toggleable__label-arrow\">GradientBoostingClassifier</label><div class=\"sk-toggleable__content\"><pre>GradientBoostingClassifier(max_depth=4, random_state=0)</pre></div></div></div></div></div>"
            ]
          },
          "metadata": {},
          "execution_count": 18
        }
      ]
    },
    {
      "cell_type": "markdown",
      "source": [
        "##Estimation efficiency Score of the Gradient Boost classifier"
      ],
      "metadata": {
        "id": "OMAlltqt3LhE"
      }
    },
    {
      "cell_type": "code",
      "source": [
        "# Estimation efficiency Score\n",
        "xtrn_gb_scor = gb_clf.score(xtrain_scal, y)\n",
        "xtst_gb_scor = gb_clf.score(xtest_scal, y_test)\n",
        "\n",
        "print('The efficiency Score of a Gradient Boost model on the training set and the testing set results:\\n')\n",
        "print('XTrain Score:',round(100*xtrn_gb_scor, 2), '%')\n",
        "print('\\nXTest Score:',round(100*xtst_gb_scor, 2), '%')"
      ],
      "metadata": {
        "colab": {
          "base_uri": "https://localhost:8080/"
        },
        "id": "HiYg7xux3TSS",
        "outputId": "8bc72c24-7ba9-4c34-88e5-efaf817c7179"
      },
      "execution_count": null,
      "outputs": [
        {
          "output_type": "stream",
          "name": "stdout",
          "text": [
            "The efficiency Score of a Gradient Boost model on the training set and the testing set results:\n",
            "\n",
            "XTrain Score: 85.59 %\n",
            "\n",
            "XTest Score: 81.08 %\n"
          ]
        }
      ]
    },
    {
      "cell_type": "code",
      "source": [
        "# f1_score  Gradient Boost\n",
        "# Evaluate the model performance of the model using the f1 Score metric\n",
        "from sklearn.metrics import f1_score\n",
        "\n",
        "xtrn_gb_skor = f1_score(gb_clf.predict(xtrain_scal), y)\n",
        "xtest_gb_skor = f1_score(gb_clf.predict(xtest_scal), y_test)\n",
        "\n",
        "print('The f1 Score of a Gradient Boost model on the training set and the testing set results:\\n')\n",
        "print('The score of the model predictions on the training set is:', round(100*xtrn_gb_skor,2),'%')\n",
        "print('\\nThe score of the model predictions on the testing set is:', round(100*xtest_gb_skor,2),'%\\n')"
      ],
      "metadata": {
        "colab": {
          "base_uri": "https://localhost:8080/"
        },
        "id": "EBeOshgPd3u-",
        "outputId": "3dd72df5-d259-4104-f27a-6a3bdbfbbb36"
      },
      "execution_count": null,
      "outputs": [
        {
          "output_type": "stream",
          "name": "stdout",
          "text": [
            "The f1 Score of a Gradient Boost model on the training set and the testing set results:\n",
            "\n",
            "The score of the model predictions on the training set is: 87.59 %\n",
            "\n",
            "The score of the model predictions on the testing set is: 83.61 %\n",
            "\n"
          ]
        }
      ]
    },
    {
      "cell_type": "markdown",
      "source": [
        "##Model Evaluation & Comparison\n",
        "\n"
      ],
      "metadata": {
        "id": "64dmvgm1QXST"
      }
    },
    {
      "cell_type": "markdown",
      "source": [
        "**Gradient Boost Classifier** and **Random Forest Classifier** were used to the training data again using Scikit-Learn. The two models were evaluated using f1 score and Efficiency score.\n",
        "\n",
        "As a *remark*, the two (2) models tend to overfit the traing data leading to high Variance when generalizing. Therefore, hyperparameters tuning is very important to get a good generalization.\n",
        "\n",
        " ### **Gradient Boost Classifier**\n",
        "The model performance efficiency Score on the training data is: 85.59 %\n",
        "and on the testing data is: 81.08 %, While f1 Score performance on the training data is: 87.59 % and the testing data is: 83.61 %.\n",
        "\n",
        "### **Random Forest Classifier**\n",
        "The model performance efficiency Score on the training data is:  79.17 %\n",
        "and on the testing data is: 78.69 %, While f1 Score performance on the training data is:  81.69 % and the testing data is: 81.36 %.\n",
        "\n",
        "Between the f1 score and efficiency score metrics, the f1 score gave better results compared to efficiency score, certainly because it is a harmonic mean of precision and recall.\n",
        "\n",
        "The performance comparison between the two (2) models, Gradient Boost Classifier performed slightly better that the Random Forest."
      ],
      "metadata": {
        "id": "VamWKcbjgOeB"
      }
    },
    {
      "cell_type": "markdown",
      "source": [
        "###**Conclusion**\n",
        "The Random Forest and Gradient Boost Classifiers seem to perform better compared to the Support Vector and logistic Classifiers because the first 2 are Ensemble Models, however, the chanllenge with them is that they overfit the training data causing high Variance, and when doing the Regularization by tuning the parameters they become very slow, thus increaing the computing time significantly. However, it is very important to first understand the problem that need be solved, then choose a Classifier accordingly."
      ],
      "metadata": {
        "id": "jC4gtZrS-hi0"
      }
    },
    {
      "cell_type": "markdown",
      "source": [
        "***************************\n",
        "\n",
        "###The **Logistic regression**\n",
        "Model precision `f1 score` of the model predictions on the *training* set is: `83.03 %` and on the testing, set is: `82.09 %`, While Model precision `recall score` of the model predictions on the training set is: `80.29 %` and on the testing set is: `79.24 %`.\n",
        "\n",
        "\n",
        "### **The Support vector machine**\n",
        "Model precision `f1 score` of the model predictions on the training set is: `90.15 %` and on the testing, set is: `83.24 %`\n",
        "While Model precision `recall score` of the model predictions on the training set is: `88.48 %` and on the testing set is: `81.1 %`.\n",
        "\n",
        "Between the f1 score and recall score metrics, the f1 score gave better results compared to recall scores, certainly because it is a harmonic mean of precision and recall.\n",
        "Thus, the Support Vector Machine has the highest performance on the best performing metric-- f1 score.\n",
        "\n"
      ],
      "metadata": {
        "id": "XWIftWSSwQjV"
      }
    },
    {
      "cell_type": "markdown",
      "source": [
        "## Conclusion\n",
        "\n",
        "\n",
        "> The *Support Vector Machine Mode* performed better compared to *Logistic regression Model*. The SVM performance score of the model predictions on the training set is: `90.15 %` and of the testing set is: `83.24 %`\n",
        "\n",
        "  >While the Logistic regression performance score of the model predictions on the training set is: `83.03 %` and of the testing set is: `82.09 %`"
      ],
      "metadata": {
        "id": "cm8s1IAkwa9s"
      }
    }
  ]
}