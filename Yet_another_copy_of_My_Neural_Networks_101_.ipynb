{
  "nbformat": 4,
  "nbformat_minor": 0,
  "metadata": {
    "colab": {
      "provenance": [],
      "authorship_tag": "ABX9TyOQ6wv++BvS2NJsvLBPlrnn"
    },
    "kernelspec": {
      "name": "python3",
      "display_name": "Python 3"
    },
    "language_info": {
      "name": "python"
    }
  },
  "cells": [
    {
      "cell_type": "markdown",
      "source": [
        "## **Implementation of Neural Networks Using a Object method \"Class\"**"
      ],
      "metadata": {
        "id": "Eh-OvwMhOL2g"
      }
    },
    {
      "cell_type": "markdown",
      "source": [
        "## Neural Network using Pytorch"
      ],
      "metadata": {
        "id": "Ox_tyMoHFo-8"
      }
    },
    {
      "cell_type": "code",
      "source": [
        "# Import necessary packages\n",
        "import numpy as np\n",
        "import torch\n",
        "import torch.nn.functional as F\n",
        "from torch import nn\n",
        "import helper\n",
        "import matplotlib.pyplot as plt\n",
        "from torchvision import datasets, transforms\n",
        "%matplotlib inline\n",
        "%config InlineBackend.figure_format = 'retina'"
      ],
      "metadata": {
        "id": "h4tZlnqbiVV2"
      },
      "execution_count": 1,
      "outputs": []
    },
    {
      "cell_type": "markdown",
      "source": [
        "#1. Load the data: MNIST DataSet"
      ],
      "metadata": {
        "id": "xqanvZ8raqxC"
      }
    },
    {
      "cell_type": "code",
      "source": [
        "\"\"\"Define Transform to Normalize the Data & Apply the Transform to a DataSet\"\"\"\n",
        "### Defining Transform to Normalize the Data **********************\n",
        "transform = transforms.Compose([transforms.ToTensor(),\n",
        "                                transforms.Normalize((0.5,),(0.5,))\n",
        "                                ])\n",
        "### Then Download and apply this Transform to your dataset *********************\n",
        "trainset = datasets.MNIST(root='./data', train=True, download=True, transform=transform);"
      ],
      "metadata": {
        "id": "WxGTHbLhQbsv"
      },
      "execution_count": null,
      "outputs": []
    },
    {
      "cell_type": "code",
      "source": [
        "###  Load the training data and set the batch size **********************\n",
        "\n",
        "trainloader= torch.utils.data.DataLoader(trainset, batch_size=64,shuffle=True)\n",
        "dataiter = iter(trainloader)\n",
        "images,labels = next(dataiter)\n",
        "### Data type and Size\n",
        "print('Data type:', type(images))\n",
        "print('Images Size:', images.shape)\n",
        "print('Labels Size:', labels.shape)"
      ],
      "metadata": {
        "id": "uvs97bRNQoGp",
        "colab": {
          "base_uri": "https://localhost:8080/"
        },
        "outputId": "3470679b-ba11-404b-f3b1-e8ffe7beb8ee"
      },
      "execution_count": 3,
      "outputs": [
        {
          "output_type": "stream",
          "name": "stdout",
          "text": [
            "Data type: <class 'torch.Tensor'>\n",
            "Images Size: torch.Size([64, 1, 28, 28])\n",
            "Labels Size: torch.Size([64])\n"
          ]
        }
      ]
    },
    {
      "cell_type": "code",
      "source": [
        "# Select one image from the batch and display\n",
        "selected_image = images[0]\n",
        "# Display the image\n",
        "plt.imshow(selected_image.numpy().squeeze(), cmap='Greys_r')"
      ],
      "metadata": {
        "colab": {
          "base_uri": "https://localhost:8080/",
          "height": 448
        },
        "id": "3LltY1fMTOy8",
        "outputId": "76ca731d-0f69-45a9-8a0c-cc30d2ab4340"
      },
      "execution_count": 4,
      "outputs": [
        {
          "output_type": "execute_result",
          "data": {
            "text/plain": [
              "<matplotlib.image.AxesImage at 0x7a4d2882bac0>"
            ]
          },
          "metadata": {},
          "execution_count": 4
        },
        {
          "output_type": "display_data",
          "data": {
            "text/plain": [
              "<Figure size 640x480 with 1 Axes>"
            ],
            "image/png": "[encoded data removed]"
          },
          "metadata": {
            "image/png": {
              "width": 417,
              "height": 413
            }
          }
        }
      ]
    },
    {
      "cell_type": "markdown",
      "source": [
        "#2. Build the Network"
      ],
      "metadata": {
        "id": "oNLA39qeba3z"
      }
    },
    {
      "cell_type": "code",
      "source": [
        "\"\"\"## Neural Networks of 784 inputs layer, 2 Hidden layers: of 256 to 128 and from 128 to 64 unites\n",
        "and 10 outputs units\"\"\"\n",
        "\n",
        "## Neural Network\n",
        "class Network(nn.Module):\n",
        "  def __init__(self):\n",
        "    super().__init__()\n",
        "    ## fully-connected layer \"fc\"\n",
        "    self.fc1 = nn.Linear(784, 128)\n",
        "    self.fc2 = nn.Linear(128, 64)\n",
        "    self.fc3 = nn.Linear(64, 10)\n",
        "    ## Define the functions\n",
        "    self.ReLU = nn.ReLU()\n",
        "    self.softmax = nn.Softmax(dim=1)\n",
        "\n",
        "  ## Define forward Method\n",
        "  def forward(self, y):\n",
        "    y = self.fc1(y)\n",
        "    y = self.ReLU(y)\n",
        "    y = self.fc2(y)\n",
        "    y = self.ReLU(y)\n",
        "    y = self.fc3(y)\n",
        "    y = self.softmax(y)\n",
        "    return y\n",
        "\n",
        "## Pick up a manual seed for randomization\n",
        "torch.manual_seed(41)\n",
        "model2 = Network()"
      ],
      "metadata": {
        "id": "onxUt1y4EzKq"
      },
      "execution_count": 5,
      "outputs": []
    },
    {
      "cell_type": "code",
      "source": [
        "#print(model2.fc1.weight,'\\n')\n",
        "print(model2.fc3.bias)"
      ],
      "metadata": {
        "id": "I3p6rWZIRd8U",
        "colab": {
          "base_uri": "https://localhost:8080/"
        },
        "outputId": "dcac803b-1246-464b-f1c6-6b2a769238fb"
      },
      "execution_count": 6,
      "outputs": [
        {
          "output_type": "stream",
          "name": "stdout",
          "text": [
            "Parameter containing:\n",
            "tensor([ 0.0870, -0.0542, -0.1165,  0.1244, -0.1039,  0.0017,  0.0243,  0.1077,\n",
            "         0.1149, -0.1091], requires_grad=True)\n"
          ]
        }
      ]
    },
    {
      "cell_type": "markdown",
      "source": [
        "#3. Set the Criterion and Optimizer of the Model"
      ],
      "metadata": {
        "id": "3_LFhVU-cipU"
      }
    },
    {
      "cell_type": "code",
      "source": [
        "from torch import optim\n",
        "## Define the Loss\n",
        "Criterion = nn.CrossEntropyLoss()\n",
        "# Optimizers require the parameters to optimize and a learning rate\n",
        "optimizer = optim.SGD(model2.parameters(), lr = 0.01):"
      ],
      "metadata": {
        "id": "zJI52BYXe64G"
      },
      "execution_count": 7,
      "outputs": []
    },
    {
      "cell_type": "markdown",
      "source": [
        "#4. Start the Training: using for Loop\n",
        "\n",
        "- Forward pass\n",
        "\n",
        "- Calculate the loss\n",
        "\n",
        "- Back propagation"
      ],
      "metadata": {
        "id": "mbKjmONWfqfM"
      }
    },
    {
      "cell_type": "code",
      "source": [
        "## The for Loop function\n",
        "epochs = 40\n",
        "for e in range(epochs):\n",
        "  running_loss = 0\n",
        "  losses = []\n",
        "  for images, labels in trainloader:\n",
        "    ## Flatten the Images *****************\n",
        "    image = images.view(images.shape[0], -1)\n",
        "\n",
        "    optimizer.zero_grad()  # Clear the gradients\n",
        "\n",
        "    ## Use forward fn to get a Prediction y_pred from x values\n",
        "    # Logits = y_prediction *** Output\n",
        "    y_prediction = model2.forward(image)\n",
        "    ## Measure the Error/ Loss using Criterion as a fn of y_pred & x values\n",
        "    Loss = Criterion(y_prediction, labels)\n",
        "\n",
        "    ## Use Back Propagation to fine-tune the weights & biases\n",
        "    Loss.backward()\n",
        "    optimizer.step()       # Update steps\n",
        "    running_loss = running_loss + Loss.item()\n",
        "    losses.append(Loss.detach().numpy())\n",
        "\n",
        "    # Calculate the average loss\n",
        "    average_loss = torch.tensor(running_loss)/len(trainloader)\n",
        "  else:\n",
        "    if e % 10 == 0:\n",
        "      print(f\"Training loss: {average_loss}\")"
      ],
      "metadata": {
        "id": "poJC0sFbf3V3",
        "colab": {
          "base_uri": "https://localhost:8080/"
        },
        "outputId": "f5a5af22-d77b-42f3-bab2-7eed21f3c637"
      },
      "execution_count": 8,
      "outputs": [
        {
          "output_type": "stream",
          "name": "stdout",
          "text": [
            "Training loss: 2.289419412612915\n",
            "Training loss: 1.7076573371887207\n",
            "Training loss: 1.556175947189331\n",
            "Training loss: 1.5399409532546997\n"
          ]
        }
      ]
    },
    {
      "cell_type": "code",
      "source": [
        "print(losses)"
      ],
      "metadata": {
        "colab": {
          "base_uri": "https://localhost:8080/"
        },
        "id": "iwalHdMGSFcv",
        "outputId": "d619bf5c-2901-4207-8872-f0448319c0dc"
      },
      "execution_count": 9,
      "outputs": [
        {
          "output_type": "stream",
          "name": "stdout",
          "text": [
            "[array(1.5319223, dtype=float32), array(1.5329268, dtype=float32), array(1.5081255, dtype=float32), array(1.5130421, dtype=float32), array(1.5402722, dtype=float32), array(1.5169142, dtype=float32), array(1.5264461, dtype=float32), array(1.5296924, dtype=float32), array(1.5469433, dtype=float32), array(1.4950205, dtype=float32), array(1.5336329, dtype=float32), array(1.5010805, dtype=float32), array(1.5228146, dtype=float32), array(1.4808316, dtype=float32), array(1.5105292, dtype=float32), array(1.5221518, dtype=float32), array(1.5490671, dtype=float32), array(1.5081202, dtype=float32), array(1.5169843, dtype=float32), array(1.5332814, dtype=float32), array(1.4795635, dtype=float32), array(1.4762857, dtype=float32), array(1.5166227, dtype=float32), array(1.512847, dtype=float32), array(1.5920295, dtype=float32), array(1.4931355, dtype=float32), array(1.5314512, dtype=float32), array(1.5405749, dtype=float32), array(1.5491793, dtype=float32), array(1.5367999, dtype=float32), array(1.5600607, dtype=float32), array(1.5461986, dtype=float32), array(1.5663793, dtype=float32), array(1.5477769, dtype=float32), array(1.5290121, dtype=float32), array(1.4959533, dtype=float32), array(1.509367, dtype=float32), array(1.490429, dtype=float32), array(1.5169545, dtype=float32), array(1.5403526, dtype=float32), array(1.520623, dtype=float32), array(1.4856073, dtype=float32), array(1.5732471, dtype=float32), array(1.5433536, dtype=float32), array(1.5394521, dtype=float32), array(1.5426295, dtype=float32), array(1.5553801, dtype=float32), array(1.5613986, dtype=float32), array(1.5690619, dtype=float32), array(1.5126835, dtype=float32), array(1.5193082, dtype=float32), array(1.5564487, dtype=float32), array(1.575876, dtype=float32), array(1.5496138, dtype=float32), array(1.5280248, dtype=float32), array(1.5438027, dtype=float32), array(1.4860704, dtype=float32), array(1.5356375, dtype=float32), array(1.51269, dtype=float32), array(1.522889, dtype=float32), array(1.5186155, dtype=float32), array(1.550744, dtype=float32), array(1.5593369, dtype=float32), array(1.5004436, dtype=float32), array(1.5363058, dtype=float32), array(1.5248758, dtype=float32), array(1.5570189, dtype=float32), array(1.5269315, dtype=float32), array(1.5288613, dtype=float32), array(1.5279189, dtype=float32), array(1.5586569, dtype=float32), array(1.5351056, dtype=float32), array(1.5684268, dtype=float32), array(1.5153853, dtype=float32), array(1.5117748, dtype=float32), array(1.5378153, dtype=float32), array(1.5780646, dtype=float32), array(1.499485, dtype=float32), array(1.568583, dtype=float32), array(1.5389541, dtype=float32), array(1.5260782, dtype=float32), array(1.5569122, dtype=float32), array(1.5225182, dtype=float32), array(1.531357, dtype=float32), array(1.5063492, dtype=float32), array(1.5364485, dtype=float32), array(1.5102221, dtype=float32), array(1.541102, dtype=float32), array(1.5359389, dtype=float32), array(1.5523055, dtype=float32), array(1.5054635, dtype=float32), array(1.486571, dtype=float32), array(1.555864, dtype=float32), array(1.5443838, dtype=float32), array(1.5026163, dtype=float32), array(1.5105913, dtype=float32), array(1.5135105, dtype=float32), array(1.5537537, dtype=float32), array(1.5581675, dtype=float32), array(1.5040523, dtype=float32), array(1.4880031, dtype=float32), array(1.5726793, dtype=float32), array(1.5465537, dtype=float32), array(1.5627728, dtype=float32), array(1.5374602, dtype=float32), array(1.5504782, dtype=float32), array(1.5363829, dtype=float32), array(1.4972728, dtype=float32), array(1.4757559, dtype=float32), array(1.5300288, dtype=float32), array(1.4920938, dtype=float32), array(1.5395671, dtype=float32), array(1.5236945, dtype=float32), array(1.5106925, dtype=float32), array(1.5215013, dtype=float32), array(1.5092641, dtype=float32), array(1.5768771, dtype=float32), array(1.5204554, dtype=float32), array(1.541948, dtype=float32), array(1.5025843, dtype=float32), array(1.4907465, dtype=float32), array(1.5024735, dtype=float32), array(1.5422586, dtype=float32), array(1.5744138, dtype=float32), array(1.5449988, dtype=float32), array(1.5526624, dtype=float32), array(1.5445182, dtype=float32), array(1.5324612, dtype=float32), array(1.5233023, dtype=float32), array(1.5162948, dtype=float32), array(1.531472, dtype=float32), array(1.5426438, dtype=float32), array(1.5464805, dtype=float32), array(1.5175737, dtype=float32), array(1.5677302, dtype=float32), array(1.5058804, dtype=float32), array(1.5191634, dtype=float32), array(1.5505052, dtype=float32), array(1.5197649, dtype=float32), array(1.5864506, dtype=float32), array(1.5044438, dtype=float32), array(1.55278, dtype=float32), array(1.5374202, dtype=float32), array(1.4915179, dtype=float32), array(1.5750887, dtype=float32), array(1.4864025, dtype=float32), array(1.531698, dtype=float32), array(1.5671527, dtype=float32), array(1.504198, dtype=float32), array(1.5454212, dtype=float32), array(1.4984941, dtype=float32), array(1.534038, dtype=float32), array(1.5825812, dtype=float32), array(1.4893909, dtype=float32), array(1.5550071, dtype=float32), array(1.5138152, dtype=float32), array(1.5112282, dtype=float32), array(1.5526491, dtype=float32), array(1.549673, dtype=float32), array(1.5850979, dtype=float32), array(1.5513117, dtype=float32), array(1.5288614, dtype=float32), array(1.5121312, dtype=float32), array(1.5401455, dtype=float32), array(1.5480039, dtype=float32), array(1.541106, dtype=float32), array(1.5773206, dtype=float32), array(1.5246226, dtype=float32), array(1.5309398, dtype=float32), array(1.5623555, dtype=float32), array(1.5512991, dtype=float32), array(1.5522065, dtype=float32), array(1.5209653, dtype=float32), array(1.4994223, dtype=float32), array(1.490678, dtype=float32), array(1.5227123, dtype=float32), array(1.4963467, dtype=float32), array(1.5374329, dtype=float32), array(1.5183092, dtype=float32), array(1.5247971, dtype=float32), array(1.5498106, dtype=float32), array(1.505655, dtype=float32), array(1.5201013, dtype=float32), array(1.5275899, dtype=float32), array(1.537164, dtype=float32), array(1.523422, dtype=float32), array(1.508689, dtype=float32), array(1.5544001, dtype=float32), array(1.5618426, dtype=float32), array(1.4984353, dtype=float32), array(1.4964738, dtype=float32), array(1.5921254, dtype=float32), array(1.5082465, dtype=float32), array(1.5272555, dtype=float32), array(1.5040191, dtype=float32), array(1.5189507, dtype=float32), array(1.5039204, dtype=float32), array(1.5391344, dtype=float32), array(1.4945478, dtype=float32), array(1.529126, dtype=float32), array(1.4986447, dtype=float32), array(1.5197837, dtype=float32), array(1.5508159, dtype=float32), array(1.5019934, dtype=float32), array(1.5179888, dtype=float32), array(1.5531414, dtype=float32), array(1.557193, dtype=float32), array(1.5951747, dtype=float32), array(1.5263336, dtype=float32), array(1.5517199, dtype=float32), array(1.5549494, dtype=float32), array(1.550565, dtype=float32), array(1.4998709, dtype=float32), array(1.52269, dtype=float32), array(1.4689646, dtype=float32), array(1.503071, dtype=float32), array(1.5401361, dtype=float32), array(1.5640874, dtype=float32), array(1.4875588, dtype=float32), array(1.4786382, dtype=float32), array(1.5307771, dtype=float32), array(1.5282243, dtype=float32), array(1.5384159, dtype=float32), array(1.5657614, dtype=float32), array(1.6237266, dtype=float32), array(1.5574132, dtype=float32), array(1.524068, dtype=float32), array(1.5908387, dtype=float32), array(1.534835, dtype=float32), array(1.5607504, dtype=float32), array(1.528636, dtype=float32), array(1.4993113, dtype=float32), array(1.5195882, dtype=float32), array(1.5436363, dtype=float32), array(1.595012, dtype=float32), array(1.5049045, dtype=float32), array(1.557376, dtype=float32), array(1.5317055, dtype=float32), array(1.5080298, dtype=float32), array(1.5345002, dtype=float32), array(1.5478883, dtype=float32), array(1.4824107, dtype=float32), array(1.5418009, dtype=float32), array(1.534544, dtype=float32), array(1.5480158, dtype=float32), array(1.5420227, dtype=float32), array(1.5601323, dtype=float32), array(1.63201, dtype=float32), array(1.4944785, dtype=float32), array(1.4845628, dtype=float32), array(1.5600225, dtype=float32), array(1.5403978, dtype=float32), array(1.501764, dtype=float32), array(1.5062498, dtype=float32), array(1.5284021, dtype=float32), array(1.5222911, dtype=float32), array(1.5527673, dtype=float32), array(1.4749076, dtype=float32), array(1.5785809, dtype=float32), array(1.531258, dtype=float32), array(1.579669, dtype=float32), array(1.54291, dtype=float32), array(1.5149943, dtype=float32), array(1.523396, dtype=float32), array(1.5491905, dtype=float32), array(1.5250205, dtype=float32), array(1.5272151, dtype=float32), array(1.5392346, dtype=float32), array(1.5167639, dtype=float32), array(1.5166723, dtype=float32), array(1.5372617, dtype=float32), array(1.475046, dtype=float32), array(1.5032977, dtype=float32), array(1.5411427, dtype=float32), array(1.5906854, dtype=float32), array(1.5275173, dtype=float32), array(1.4762142, dtype=float32), array(1.5411558, dtype=float32), array(1.5653535, dtype=float32), array(1.5334573, dtype=float32), array(1.4729091, dtype=float32), array(1.5522939, dtype=float32), array(1.5242264, dtype=float32), array(1.5161964, dtype=float32), array(1.55098, dtype=float32), array(1.499779, dtype=float32), array(1.5015284, dtype=float32), array(1.5047762, dtype=float32), array(1.4923412, dtype=float32), array(1.5076892, dtype=float32), array(1.5339519, dtype=float32), array(1.4938257, dtype=float32), array(1.548801, dtype=float32), array(1.5602816, dtype=float32), array(1.5459425, dtype=float32), array(1.5341246, dtype=float32), array(1.4914061, dtype=float32), array(1.5646851, dtype=float32), array(1.4743972, dtype=float32), array(1.5378718, dtype=float32), array(1.5726976, dtype=float32), array(1.5357665, dtype=float32), array(1.5753708, dtype=float32), array(1.5180374, dtype=float32), array(1.5225233, dtype=float32), array(1.564899, dtype=float32), array(1.5518628, dtype=float32), array(1.5162194, dtype=float32), array(1.4929035, dtype=float32), array(1.5163724, dtype=float32), array(1.5116936, dtype=float32), array(1.5504723, dtype=float32), array(1.5388273, dtype=float32), array(1.5465775, dtype=float32), array(1.5212665, dtype=float32), array(1.5666265, dtype=float32), array(1.5408359, dtype=float32), array(1.540648, dtype=float32), array(1.5195831, dtype=float32), array(1.5100158, dtype=float32), array(1.5172284, dtype=float32), array(1.5443879, dtype=float32), array(1.5127839, dtype=float32), array(1.5250831, dtype=float32), array(1.5256729, dtype=float32), array(1.5539752, dtype=float32), array(1.5088205, dtype=float32), array(1.5501095, dtype=float32), array(1.5349698, dtype=float32), array(1.5955479, dtype=float32), array(1.5525713, dtype=float32), array(1.5143174, dtype=float32), array(1.483346, dtype=float32), array(1.4967917, dtype=float32), array(1.5409697, dtype=float32), array(1.5511037, dtype=float32), array(1.5819709, dtype=float32), array(1.548618, dtype=float32), array(1.5441145, dtype=float32), array(1.5363125, dtype=float32), array(1.546968, dtype=float32), array(1.542722, dtype=float32), array(1.4842111, dtype=float32), array(1.5192751, dtype=float32), array(1.5747466, dtype=float32), array(1.5292325, dtype=float32), array(1.5370255, dtype=float32), array(1.5722873, dtype=float32), array(1.5221412, dtype=float32), array(1.5236729, dtype=float32), array(1.5123909, dtype=float32), array(1.5077826, dtype=float32), array(1.4874158, dtype=float32), array(1.5610839, dtype=float32), array(1.529006, dtype=float32), array(1.5210584, dtype=float32), array(1.5331932, dtype=float32), array(1.5508065, dtype=float32), array(1.539147, dtype=float32), array(1.5063788, dtype=float32), array(1.5151862, dtype=float32), array(1.5566974, dtype=float32), array(1.522325, dtype=float32), array(1.5547115, dtype=float32), array(1.5407673, dtype=float32), array(1.5723069, dtype=float32), array(1.5240152, dtype=float32), array(1.5837922, dtype=float32), array(1.5119197, dtype=float32), array(1.5439647, dtype=float32), array(1.5847473, dtype=float32), array(1.5152495, dtype=float32), array(1.535864, dtype=float32), array(1.5792824, dtype=float32), array(1.5590475, dtype=float32), array(1.5250368, dtype=float32), array(1.5501971, dtype=float32), array(1.4950727, dtype=float32), array(1.4917032, dtype=float32), array(1.5023293, dtype=float32), array(1.5175387, dtype=float32), array(1.5494487, dtype=float32), array(1.5330042, dtype=float32), array(1.5482804, dtype=float32), array(1.5473558, dtype=float32), array(1.5110173, dtype=float32), array(1.5259155, dtype=float32), array(1.499902, dtype=float32), array(1.531276, dtype=float32), array(1.4996803, dtype=float32), array(1.5399742, dtype=float32), array(1.5773964, dtype=float32), array(1.5039037, dtype=float32), array(1.5080168, dtype=float32), array(1.563519, dtype=float32), array(1.5415502, dtype=float32), array(1.5586934, dtype=float32), array(1.5335789, dtype=float32), array(1.527544, dtype=float32), array(1.512787, dtype=float32), array(1.5404468, dtype=float32), array(1.495879, dtype=float32), array(1.5919791, dtype=float32), array(1.5139407, dtype=float32), array(1.5605286, dtype=float32), array(1.510973, dtype=float32), array(1.5429972, dtype=float32), array(1.5327394, dtype=float32), array(1.532124, dtype=float32), array(1.5416319, dtype=float32), array(1.5770948, dtype=float32), array(1.4775736, dtype=float32), array(1.5290071, dtype=float32), array(1.5129756, dtype=float32), array(1.5207165, dtype=float32), array(1.5384911, dtype=float32), array(1.4847841, dtype=float32), array(1.5296018, dtype=float32), array(1.5550456, dtype=float32), array(1.5192167, dtype=float32), array(1.5395036, dtype=float32), array(1.4800776, dtype=float32), array(1.5114585, dtype=float32), array(1.5293883, dtype=float32), array(1.5803022, dtype=float32), array(1.5199068, dtype=float32), array(1.5332732, dtype=float32), array(1.5627112, dtype=float32), array(1.5692823, dtype=float32), array(1.5348146, dtype=float32), array(1.543072, dtype=float32), array(1.4923072, dtype=float32), array(1.5684972, dtype=float32), array(1.5232519, dtype=float32), array(1.5112057, dtype=float32), array(1.5268897, dtype=float32), array(1.5399879, dtype=float32), array(1.5237246, dtype=float32), array(1.5126575, dtype=float32), array(1.5692635, dtype=float32), array(1.5847265, dtype=float32), array(1.5061, dtype=float32), array(1.5134013, dtype=float32), array(1.5674651, dtype=float32), array(1.525328, dtype=float32), array(1.5850374, dtype=float32), array(1.5214641, dtype=float32), array(1.5114868, dtype=float32), array(1.5545161, dtype=float32), array(1.5492823, dtype=float32), array(1.578613, dtype=float32), array(1.5648137, dtype=float32), array(1.526035, dtype=float32), array(1.5379865, dtype=float32), array(1.5169129, dtype=float32), array(1.5845115, dtype=float32), array(1.519444, dtype=float32), array(1.513126, dtype=float32), array(1.577744, dtype=float32), array(1.5836574, dtype=float32), array(1.5158545, dtype=float32), array(1.5953481, dtype=float32), array(1.5324363, dtype=float32), array(1.5294187, dtype=float32), array(1.507493, dtype=float32), array(1.5257099, dtype=float32), array(1.5472202, dtype=float32), array(1.5270752, dtype=float32), array(1.5695243, dtype=float32), array(1.531855, dtype=float32), array(1.5471807, dtype=float32), array(1.5600976, dtype=float32), array(1.5086911, dtype=float32), array(1.5123868, dtype=float32), array(1.5371993, dtype=float32), array(1.5394683, dtype=float32), array(1.5167532, dtype=float32), array(1.6020193, dtype=float32), array(1.4975891, dtype=float32), array(1.4914024, dtype=float32), array(1.5397319, dtype=float32), array(1.5472431, dtype=float32), array(1.553032, dtype=float32), array(1.5026319, dtype=float32), array(1.5272439, dtype=float32), array(1.5032302, dtype=float32), array(1.5215442, dtype=float32), array(1.5431992, dtype=float32), array(1.5173295, dtype=float32), array(1.4816873, dtype=float32), array(1.4926103, dtype=float32), array(1.503654, dtype=float32), array(1.5490639, dtype=float32), array(1.564154, dtype=float32), array(1.510285, dtype=float32), array(1.5165101, dtype=float32), array(1.4952109, dtype=float32), array(1.4963939, dtype=float32), array(1.5285443, dtype=float32), array(1.5157605, dtype=float32), array(1.5199142, dtype=float32), array(1.5084944, dtype=float32), array(1.5290928, dtype=float32), array(1.5231618, dtype=float32), array(1.520402, dtype=float32), array(1.5300671, dtype=float32), array(1.5693246, dtype=float32), array(1.5270079, dtype=float32), array(1.5529583, dtype=float32), array(1.5399251, dtype=float32), array(1.5087692, dtype=float32), array(1.5532339, dtype=float32), array(1.526214, dtype=float32), array(1.6276906, dtype=float32), array(1.5383337, dtype=float32), array(1.5084525, dtype=float32), array(1.4794486, dtype=float32), array(1.4938312, dtype=float32), array(1.5117437, dtype=float32), array(1.5098345, dtype=float32), array(1.4995623, dtype=float32), array(1.5824242, dtype=float32), array(1.4961568, dtype=float32), array(1.5136667, dtype=float32), array(1.4888405, dtype=float32), array(1.5324415, dtype=float32), array(1.5587963, dtype=float32), array(1.5457999, dtype=float32), array(1.5267111, dtype=float32), array(1.5435803, dtype=float32), array(1.502273, dtype=float32), array(1.5216322, dtype=float32), array(1.5420393, dtype=float32), array(1.4948043, dtype=float32), array(1.5433277, dtype=float32), array(1.5207572, dtype=float32), array(1.479773, dtype=float32), array(1.5448638, dtype=float32), array(1.5213697, dtype=float32), array(1.537793, dtype=float32), array(1.5252507, dtype=float32), array(1.5447512, dtype=float32), array(1.5237559, dtype=float32), array(1.5304515, dtype=float32), array(1.5454758, dtype=float32), array(1.5483853, dtype=float32), array(1.5193753, dtype=float32), array(1.5512495, dtype=float32), array(1.5621395, dtype=float32), array(1.5035865, dtype=float32), array(1.5046988, dtype=float32), array(1.5545298, dtype=float32), array(1.494006, dtype=float32), array(1.4987426, dtype=float32), array(1.4939626, dtype=float32), array(1.5173546, dtype=float32), array(1.5198066, dtype=float32), array(1.4983486, dtype=float32), array(1.499196, dtype=float32), array(1.5039471, dtype=float32), array(1.503075, dtype=float32), array(1.5213417, dtype=float32), array(1.5065755, dtype=float32), array(1.5793732, dtype=float32), array(1.5687755, dtype=float32), array(1.5409296, dtype=float32), array(1.5415432, dtype=float32), array(1.5780108, dtype=float32), array(1.5515605, dtype=float32), array(1.5452251, dtype=float32), array(1.511999, dtype=float32), array(1.5418447, dtype=float32), array(1.5115294, dtype=float32), array(1.4801264, dtype=float32), array(1.534214, dtype=float32), array(1.4853216, dtype=float32), array(1.5299332, dtype=float32), array(1.5601743, dtype=float32), array(1.5135815, dtype=float32), array(1.5142082, dtype=float32), array(1.4898812, dtype=float32), array(1.4902214, dtype=float32), array(1.567789, dtype=float32), array(1.5243195, dtype=float32), array(1.6022668, dtype=float32), array(1.4973415, dtype=float32), array(1.5364615, dtype=float32), array(1.5261879, dtype=float32), array(1.5456966, dtype=float32), array(1.521701, dtype=float32), array(1.5338752, dtype=float32), array(1.5254169, dtype=float32), array(1.5102816, dtype=float32), array(1.5258207, dtype=float32), array(1.5034633, dtype=float32), array(1.5312096, dtype=float32), array(1.5133508, dtype=float32), array(1.5000176, dtype=float32), array(1.5208948, dtype=float32), array(1.521488, dtype=float32), array(1.5038136, dtype=float32), array(1.5692942, dtype=float32), array(1.4790242, dtype=float32), array(1.4997975, dtype=float32), array(1.5588446, dtype=float32), array(1.520639, dtype=float32), array(1.5201089, dtype=float32), array(1.4978827, dtype=float32), array(1.5816113, dtype=float32), array(1.5397878, dtype=float32), array(1.510469, dtype=float32), array(1.557723, dtype=float32), array(1.5312922, dtype=float32), array(1.5632795, dtype=float32), array(1.5215951, dtype=float32), array(1.5173887, dtype=float32), array(1.5111817, dtype=float32), array(1.5727198, dtype=float32), array(1.5305506, dtype=float32), array(1.514252, dtype=float32), array(1.5636988, dtype=float32), array(1.5230793, dtype=float32), array(1.5337354, dtype=float32), array(1.480809, dtype=float32), array(1.5379215, dtype=float32), array(1.5283543, dtype=float32), array(1.5323066, dtype=float32), array(1.500049, dtype=float32), array(1.5363263, dtype=float32), array(1.5171483, dtype=float32), array(1.5554444, dtype=float32), array(1.5155647, dtype=float32), array(1.5246835, dtype=float32), array(1.5295066, dtype=float32), array(1.4637214, dtype=float32), array(1.5051987, dtype=float32), array(1.5711627, dtype=float32), array(1.5134617, dtype=float32), array(1.5603794, dtype=float32), array(1.5626543, dtype=float32), array(1.5359709, dtype=float32), array(1.5305471, dtype=float32), array(1.5692387, dtype=float32), array(1.5528032, dtype=float32), array(1.5038598, dtype=float32), array(1.5239239, dtype=float32), array(1.5409663, dtype=float32), array(1.5639355, dtype=float32), array(1.5420182, dtype=float32), array(1.5300721, dtype=float32), array(1.5582224, dtype=float32), array(1.5190529, dtype=float32), array(1.5528495, dtype=float32), array(1.5279396, dtype=float32), array(1.5189075, dtype=float32), array(1.5451167, dtype=float32), array(1.5757953, dtype=float32), array(1.5332865, dtype=float32), array(1.5298692, dtype=float32), array(1.5195186, dtype=float32), array(1.4922467, dtype=float32), array(1.5116993, dtype=float32), array(1.5342069, dtype=float32), array(1.5299062, dtype=float32), array(1.488401, dtype=float32), array(1.5074525, dtype=float32), array(1.5495291, dtype=float32), array(1.4799433, dtype=float32), array(1.502849, dtype=float32), array(1.4742987, dtype=float32), array(1.5041629, dtype=float32), array(1.5539805, dtype=float32), array(1.481277, dtype=float32), array(1.5052867, dtype=float32), array(1.5398376, dtype=float32), array(1.5649549, dtype=float32), array(1.5129179, dtype=float32), array(1.5166798, dtype=float32), array(1.5126832, dtype=float32), array(1.5286655, dtype=float32), array(1.5645952, dtype=float32), array(1.5380735, dtype=float32), array(1.5131738, dtype=float32), array(1.4990405, dtype=float32), array(1.5383102, dtype=float32), array(1.5395734, dtype=float32), array(1.5121902, dtype=float32), array(1.556581, dtype=float32), array(1.5415179, dtype=float32), array(1.5921559, dtype=float32), array(1.5423976, dtype=float32), array(1.5386999, dtype=float32), array(1.49254, dtype=float32), array(1.5208665, dtype=float32), array(1.5156074, dtype=float32), array(1.534549, dtype=float32), array(1.53376, dtype=float32), array(1.5447527, dtype=float32), array(1.494823, dtype=float32), array(1.4978585, dtype=float32), array(1.486607, dtype=float32), array(1.5247604, dtype=float32), array(1.5384188, dtype=float32), array(1.53926, dtype=float32), array(1.4940155, dtype=float32), array(1.5270611, dtype=float32), array(1.5010965, dtype=float32), array(1.5026246, dtype=float32), array(1.5239506, dtype=float32), array(1.5538065, dtype=float32), array(1.5349553, dtype=float32), array(1.5810099, dtype=float32), array(1.494442, dtype=float32), array(1.5376894, dtype=float32), array(1.5078663, dtype=float32), array(1.5649486, dtype=float32), array(1.5326184, dtype=float32), array(1.5962706, dtype=float32), array(1.5446556, dtype=float32), array(1.5442355, dtype=float32), array(1.5104126, dtype=float32), array(1.5375485, dtype=float32), array(1.5462034, dtype=float32), array(1.5381676, dtype=float32), array(1.569043, dtype=float32), array(1.5320488, dtype=float32), array(1.50003, dtype=float32), array(1.4936892, dtype=float32), array(1.5580965, dtype=float32), array(1.5055033, dtype=float32), array(1.5254594, dtype=float32), array(1.551458, dtype=float32), array(1.5012256, dtype=float32), array(1.5092201, dtype=float32), array(1.5229864, dtype=float32), array(1.4960829, dtype=float32), array(1.5321403, dtype=float32), array(1.5255414, dtype=float32), array(1.5159496, dtype=float32), array(1.5717564, dtype=float32), array(1.5478361, dtype=float32), array(1.5248696, dtype=float32), array(1.5648555, dtype=float32), array(1.5177276, dtype=float32), array(1.5092063, dtype=float32), array(1.4790951, dtype=float32), array(1.5304129, dtype=float32), array(1.5199904, dtype=float32), array(1.5181398, dtype=float32), array(1.5726813, dtype=float32), array(1.5699149, dtype=float32), array(1.5635684, dtype=float32), array(1.5606844, dtype=float32), array(1.5395896, dtype=float32), array(1.5513844, dtype=float32), array(1.5262911, dtype=float32), array(1.5184216, dtype=float32), array(1.5329459, dtype=float32), array(1.5261422, dtype=float32), array(1.5350355, dtype=float32), array(1.5437903, dtype=float32), array(1.5997831, dtype=float32), array(1.5136743, dtype=float32), array(1.54069, dtype=float32), array(1.5310227, dtype=float32), array(1.514013, dtype=float32), array(1.5066985, dtype=float32), array(1.5381994, dtype=float32), array(1.5179615, dtype=float32), array(1.4939334, dtype=float32), array(1.5336379, dtype=float32), array(1.5315301, dtype=float32), array(1.5527295, dtype=float32), array(1.5496774, dtype=float32), array(1.512296, dtype=float32), array(1.566579, dtype=float32), array(1.5084141, dtype=float32), array(1.4895204, dtype=float32), array(1.5200164, dtype=float32), array(1.5214652, dtype=float32), array(1.5102226, dtype=float32), array(1.5589079, dtype=float32), array(1.5124506, dtype=float32), array(1.5375758, dtype=float32), array(1.5247625, dtype=float32), array(1.5566881, dtype=float32), array(1.5539311, dtype=float32), array(1.5137819, dtype=float32), array(1.5556781, dtype=float32), array(1.5282534, dtype=float32), array(1.5322212, dtype=float32), array(1.5578058, dtype=float32), array(1.5396802, dtype=float32), array(1.4944147, dtype=float32), array(1.5615132, dtype=float32), array(1.5296416, dtype=float32), array(1.5151085, dtype=float32), array(1.5499359, dtype=float32), array(1.6180298, dtype=float32), array(1.5062623, dtype=float32), array(1.5275316, dtype=float32), array(1.5806011, dtype=float32), array(1.5043886, dtype=float32), array(1.5194188, dtype=float32), array(1.5896308, dtype=float32), array(1.5332913, dtype=float32), array(1.5215371, dtype=float32), array(1.5288638, dtype=float32), array(1.5101786, dtype=float32), array(1.5471509, dtype=float32), array(1.493591, dtype=float32), array(1.5941701, dtype=float32), array(1.5215712, dtype=float32), array(1.5639998, dtype=float32), array(1.5317167, dtype=float32), array(1.5195897, dtype=float32), array(1.5493115, dtype=float32), array(1.496011, dtype=float32), array(1.4901881, dtype=float32), array(1.546583, dtype=float32), array(1.5312366, dtype=float32), array(1.4986553, dtype=float32), array(1.5140169, dtype=float32), array(1.5050367, dtype=float32), array(1.5647014, dtype=float32), array(1.5157504, dtype=float32), array(1.4980717, dtype=float32), array(1.5174699, dtype=float32), array(1.5357853, dtype=float32), array(1.5558354, dtype=float32), array(1.5754085, dtype=float32), array(1.4992881, dtype=float32), array(1.5251139, dtype=float32), array(1.521822, dtype=float32), array(1.5004787, dtype=float32), array(1.4650205, dtype=float32), array(1.5794616, dtype=float32), array(1.5630594, dtype=float32), array(1.5325494, dtype=float32), array(1.5486473, dtype=float32), array(1.5330426, dtype=float32), array(1.4989561, dtype=float32), array(1.5416878, dtype=float32), array(1.5508232, dtype=float32), array(1.5166991, dtype=float32), array(1.5475574, dtype=float32), array(1.4954944, dtype=float32), array(1.569418, dtype=float32), array(1.5589107, dtype=float32), array(1.5306144, dtype=float32), array(1.5641207, dtype=float32), array(1.5611529, dtype=float32), array(1.5590458, dtype=float32), array(1.4972187, dtype=float32), array(1.4985043, dtype=float32), array(1.5234993, dtype=float32), array(1.526185, dtype=float32), array(1.5235404, dtype=float32), array(1.5141574, dtype=float32), array(1.48438, dtype=float32), array(1.5418931, dtype=float32), array(1.4977034, dtype=float32), array(1.5125077, dtype=float32), array(1.5124047, dtype=float32), array(1.5342281, dtype=float32), array(1.4992025, dtype=float32), array(1.5149014, dtype=float32), array(1.4890605, dtype=float32), array(1.5181819, dtype=float32), array(1.5411359, dtype=float32), array(1.5301195, dtype=float32), array(1.5827243, dtype=float32), array(1.518687, dtype=float32), array(1.5456781, dtype=float32), array(1.6149004, dtype=float32), array(1.5394261, dtype=float32), array(1.5189966, dtype=float32), array(1.5127429, dtype=float32), array(1.5656362, dtype=float32), array(1.5746989, dtype=float32), array(1.5116998, dtype=float32), array(1.5358049, dtype=float32), array(1.5079061, dtype=float32), array(1.5465823, dtype=float32), array(1.532119, dtype=float32), array(1.5643146, dtype=float32), array(1.5707982, dtype=float32), array(1.576958, dtype=float32), array(1.5686864, dtype=float32), array(1.5850463, dtype=float32), array(1.5251814, dtype=float32), array(1.5941418, dtype=float32), array(1.538852, dtype=float32), array(1.4965096, dtype=float32), array(1.5684562, dtype=float32), array(1.5040722, dtype=float32), array(1.5312366, dtype=float32), array(1.5429934, dtype=float32), array(1.5129224, dtype=float32), array(1.5300733, dtype=float32), array(1.5522864, dtype=float32), array(1.495861, dtype=float32), array(1.5423447, dtype=float32), array(1.584168, dtype=float32), array(1.5211669, dtype=float32), array(1.5237424, dtype=float32), array(1.5120089, dtype=float32), array(1.5633731, dtype=float32), array(1.5319271, dtype=float32), array(1.5436226, dtype=float32), array(1.5423516, dtype=float32), array(1.5298321, dtype=float32), array(1.5714959, dtype=float32), array(1.5110838, dtype=float32), array(1.5393951, dtype=float32), array(1.501728, dtype=float32), array(1.4896258, dtype=float32), array(1.5540779, dtype=float32), array(1.5344478, dtype=float32), array(1.6174331, dtype=float32), array(1.5007502, dtype=float32), array(1.5307424, dtype=float32), array(1.5018096, dtype=float32), array(1.5367062, dtype=float32), array(1.510381, dtype=float32), array(1.5295997, dtype=float32), array(1.5615919, dtype=float32), array(1.5439311, dtype=float32), array(1.5161297, dtype=float32), array(1.5373132, dtype=float32), array(1.5154635, dtype=float32), array(1.5108176, dtype=float32), array(1.55564, dtype=float32), array(1.5356709, dtype=float32), array(1.5288216, dtype=float32), array(1.5112406, dtype=float32), array(1.5205657, dtype=float32), array(1.6144403, dtype=float32)]\n"
          ]
        }
      ]
    },
    {
      "cell_type": "markdown",
      "source": [
        "#5. Compute the Model prediction on Test Dataset"
      ],
      "metadata": {
        "id": "HIs8g8rBiDIb"
      }
    },
    {
      "cell_type": "code",
      "source": [
        "## Evaluate the Model on Test data set\n",
        "\n",
        "#with torch.no_grad():       # turn off the back propagation\n",
        "  # Get predicted or tested Results again ***************\n",
        "  # now to avaluate the Model using x_test values (20%)\n",
        "  #y_prediction = model2.forward(x_test)\n",
        "  # Find the loss or error\n",
        "  #losss = Criterion(y_prediction, y_test)"
      ],
      "metadata": {
        "id": "57fFnwKIh3SL"
      },
      "execution_count": 10,
      "outputs": []
    }
  ]
}