{
  "nbformat": 4,
  "nbformat_minor": 0,
  "metadata": {
    "colab": {
      "provenance": [],
      "authorship_tag": "ABX9TyNfp/FHL6fg3vcFCxPBYBLd"
    },
    "kernelspec": {
      "name": "python3",
      "display_name": "Python 3"
    },
    "language_info": {
      "name": "python"
    }
  },
  "cells": [
    {
      "cell_type": "markdown",
      "source": [
        "## **Implementation of Neural Networks Using a Object method \"Class\"**"
      ],
      "metadata": {
        "id": "Eh-OvwMhOL2g"
      }
    },
    {
      "cell_type": "markdown",
      "source": [
        "## Neural Network using Pytorch"
      ],
      "metadata": {
        "id": "Ox_tyMoHFo-8"
      }
    },
    {
      "cell_type": "code",
      "source": [
        "# Import necessary packages\n",
        "import numpy as np\n",
        "import torch\n",
        "import torch.nn.functional as F\n",
        "from torch import nn\n",
        "import helper\n",
        "import matplotlib.pyplot as plt\n",
        "from torchvision import datasets, transforms\n",
        "%matplotlib inline\n",
        "%config InlineBackend.figure_format = 'retina'"
      ],
      "metadata": {
        "id": "h4tZlnqbiVV2"
      },
      "execution_count": 1,
      "outputs": []
    },
    {
      "cell_type": "markdown",
      "source": [
        "#1. Load the data: MNIST DataSet"
      ],
      "metadata": {
        "id": "xqanvZ8raqxC"
      }
    },
    {
      "cell_type": "code",
      "source": [
        "\"\"\"Define Transform to Normalize the Data & Apply the Transform to a DataSet\"\"\"\n",
        "### Defining Transform to Normalize the Data **********************\n",
        "transform = transforms.Compose([transforms.ToTensor(),\n",
        "                                transforms.Normalize((0.5,),(0.5,))\n",
        "                                ])\n",
        "### Then Download and apply this Transform to your dataset *********************\n",
        "trainset = datasets.MNIST(root='./data', train=True, download=True, transform=transform);"
      ],
      "metadata": {
        "id": "WxGTHbLhQbsv"
      },
      "execution_count": null,
      "outputs": []
    },
    {
      "cell_type": "code",
      "source": [
        "###  Load the training data and set the batch size **********************\n",
        "\n",
        "trainloader= torch.utils.data.DataLoader(trainset, batch_size=64,shuffle=True)\n",
        "dataiter = iter(trainloader)\n",
        "images,labels = next(dataiter)\n",
        "### Data type and Size\n",
        "print('Data type:', type(images))\n",
        "print('Images Size:', images.shape)\n",
        "print('Labels Size:', labels.shape)"
      ],
      "metadata": {
        "id": "uvs97bRNQoGp",
        "colab": {
          "base_uri": "https://localhost:8080/"
        },
        "outputId": "3470679b-ba11-404b-f3b1-e8ffe7beb8ee"
      },
      "execution_count": 3,
      "outputs": [
        {
          "output_type": "stream",
          "name": "stdout",
          "text": [
            "Data type: <class 'torch.Tensor'>\n",
            "Images Size: torch.Size([64, 1, 28, 28])\n",
            "Labels Size: torch.Size([64])\n"
          ]
        }
      ]
    },
    {
      "cell_type": "code",
      "source": [
        "# Select one image from the batch and display\n",
        "selected_image = images[0]\n",
        "# Display the image\n",
        "plt.imshow(selected_image.numpy().squeeze(), cmap='Greys_r')"
      ],
      "metadata": {
        "colab": {
          "base_uri": "https://localhost:8080/",
          "height": 448
        },
        "id": "3LltY1fMTOy8",
        "outputId": "76ca731d-0f69-45a9-8a0c-cc30d2ab4340"
      },
      "execution_count": 4,
      "outputs": [
        {
          "output_type": "execute_result",
          "data": {
            "text/plain": [
              "<matplotlib.image.AxesImage at 0x7a4d2882bac0>"
            ]
          },
          "metadata": {},
          "execution_count": 4
        },
        {
          "output_type": "display_data",
          "data": {
            "text/plain": [
              "<Figure size 640x480 with 1 Axes>"
            ],
            "image/png": "[encoded data removed]"
          },
          "metadata": {
            "image/png": {
              "width": 417,
              "height": 413
            }
          }
        }
      ]
    },
    {
      "cell_type": "markdown",
      "source": [
        "#2. Build the Network"
      ],
      "metadata": {
        "id": "oNLA39qeba3z"
      }
    },
    {
      "cell_type": "code",
      "source": [
        "\"\"\"## Neural Networks of 784 inputs layer, 2 Hidden layers: of 256 to 128 and from 128 to 64 unites\n",
        "and 10 outputs units\"\"\"\n",
        "\n",
        "## Neural Network\n",
        "class Network(nn.Module):\n",
        "  def __init__(self):\n",
        "    super().__init__()\n",
        "    ## fully-connected layer \"fc\"\n",
        "    self.fc1 = nn.Linear(784, 128)\n",
        "    self.fc2 = nn.Linear(128, 64)\n",
        "    self.fc3 = nn.Linear(64, 10)\n",
        "    ## Define the functions\n",
        "    self.ReLU = nn.ReLU()\n",
        "    self.softmax = nn.Softmax(dim=1)\n",
        "\n",
        "  ## Define forward Method\n",
        "  def forward(self, y):\n",
        "    y = self.fc1(y)\n",
        "    y = self.ReLU(y)\n",
        "    y = self.fc2(y)\n",
        "    y = self.ReLU(y)\n",
        "    y = self.fc3(y)\n",
        "    y = self.softmax(y)\n",
        "    return y\n",
        "\n",
        "## Pick up a manual seed for randomization\n",
        "torch.manual_seed(41)\n",
        "model2 = Network()"
      ],
      "metadata": {
        "id": "onxUt1y4EzKq"
      },
      "execution_count": 5,
      "outputs": []
    },
    {
      "cell_type": "code",
      "source": [
        "#print(model2.fc1.weight,'\\n')\n",
        "print(model2.fc3.bias)"
      ],
      "metadata": {
        "id": "I3p6rWZIRd8U",
        "colab": {
          "base_uri": "https://localhost:8080/"
        },
        "outputId": "dcac803b-1246-464b-f1c6-6b2a769238fb"
      },
      "execution_count": 6,
      "outputs": [
        {
          "output_type": "stream",
          "name": "stdout",
          "text": [
            "Parameter containing:\n",
            "tensor([ 0.0870, -0.0542, -0.1165,  0.1244, -0.1039,  0.0017,  0.0243,  0.1077,\n",
            "         0.1149, -0.1091], requires_grad=True)\n"
          ]
        }
      ]
    },
    {
      "cell_type": "markdown",
      "source": [
        "#3. Set the Criterion and Optimizer of the Model"
      ],
      "metadata": {
        "id": "3_LFhVU-cipU"
      }
    },
    {
      "cell_type": "code",
      "source": [
        "from torch import optim\n",
        "## Define the Loss\n",
        "Criterion = nn.CrossEntropyLoss()\n",
        "# Optimizers require the parameters to optimize and a learning rate\n",
        "optimizer = optim.SGD(model2.parameters(), lr = 0.01):"
      ],
      "metadata": {
        "id": "zJI52BYXe64G"
      },
      "execution_count": 7,
      "outputs": []
    },
    {
      "cell_type": "markdown",
      "source": [
        "#4. Start the Training: using for Loop\n",
        "\n",
        "- Forward pass\n",
        "\n",
        "- Calculate the loss\n",
        "\n",
        "- Back propagation"
      ],
      "metadata": {
        "id": "mbKjmONWfqfM"
      }
    },
    {
      "cell_type": "code",
      "source": [
        "## The for Loop function\n",
        "epochs = 40\n",
        "for e in range(epochs):\n",
        "  running_loss = 0\n",
        "  losses = []\n",
        "  for images, labels in trainloader:\n",
        "    ## Flatten the Images *****************\n",
        "    image = images.view(images.shape[0], -1)\n",
        "\n",
        "    optimizer.zero_grad()  # Clear the gradients\n",
        "\n",
        "    ## Use forward fn to get a Prediction y_pred from x values\n",
        "    # Logits = y_prediction *** Output\n",
        "    y_prediction = model2.forward(image)\n",
        "    ## Measure the Error/ Loss using Criterion as a fn of y_pred & x values\n",
        "    Loss = Criterion(y_prediction, labels)\n",
        "\n",
        "    ## Use Back Propagation to fine-tune the weights & biases\n",
        "    Loss.backward()\n",
        "    optimizer.step()       # Update steps\n",
        "    running_loss = running_loss + Loss.item()\n",
        "    losses.append(Loss.detach().numpy())\n",
        "\n",
        "    # Calculate the average loss\n",
        "    average_loss = torch.tensor(running_loss)/len(trainloader)\n",
        "  else:\n",
        "    if e % 10 == 0:\n",
        "      print(f\"Training loss: {average_loss}\")"
      ],
      "metadata": {
        "id": "poJC0sFbf3V3",
        "colab": {
          "base_uri": "https://localhost:8080/"
        },
        "outputId": "f5a5af22-d77b-42f3-bab2-7eed21f3c637"
      },
      "execution_count": 8,
      "outputs": [
        {
          "output_type": "stream",
          "name": "stdout",
          "text": [
            "Training loss: 2.289419412612915\n",
            "Training loss: 1.7076573371887207\n",
            "Training loss: 1.556175947189331\n",
            "Training loss: 1.5399409532546997\n"
          ]
        }
      ]
    },
    {
      "cell_type": "markdown",
      "source": [
        "#5. Compute the Model prediction on Test Dataset"
      ],
      "metadata": {
        "id": "HIs8g8rBiDIb"
      }
    },
    {
      "cell_type": "code",
      "source": [
        "## Evaluate the Model on Test data set\n",
        "\n",
        "#with torch.no_grad():       # turn off the back propagation\n",
        "  # Get predicted or tested Results again ***************\n",
        "  # now to avaluate the Model using x_test values (20%)\n",
        "  #y_prediction = model2.forward(x_test)\n",
        "  # Find the loss or error\n",
        "  #losss = Criterion(y_prediction, y_test)"
      ],
      "metadata": {
        "id": "57fFnwKIh3SL"
      },
      "execution_count": 10,
      "outputs": []
    }
  ]
}